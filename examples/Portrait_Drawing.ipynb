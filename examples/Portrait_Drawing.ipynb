{
 "cells": [
  {
   "cell_type": "code",
   "execution_count": null,
   "id": "f599ac7a-fca4-4571-a5b1-dcbe7579e611",
   "metadata": {},
   "outputs": [],
   "source": [
    "# Corners of the page in global frame\n",
    "LEFT_TOP = [-0.0904, 0.4208, 0.22, 0, 0, 1]\n",
    "LEFT_BOTTOM = [-0.0904, 0.2049, 0.217, 0, 0, 1]\n",
    "RIGHT_BOTTOM = [0.1890, 0.2049, 0.217, 0, 0, 1]\n",
    "RIGHT_TOP = [0.1890, 0.4208, 0.22, 0, 0, 1]\n",
    "\n",
    "\n",
    "# Function to convert page coordinates to global\n",
    "def paper_coordinates(x, y, up=True):\n",
    "    cords = []\n",
    "    if (x > 0.2794) or (y > 0.2159) or (x < 0) or (y < 0):\n",
    "        raise RuntimeError(\"Your coordinates are off the paper\")\n",
    "    cords.append(LEFT_BOTTOM[0] + x)\n",
    "    cords.append(LEFT_BOTTOM[1] + y)\n",
    "    if up:\n",
    "        cords.append(0.225)\n",
    "    else:\n",
    "        cords.append(0.219 - (0.002 * ((0.2159 - y) / 0.2159)))\n",
    "\n",
    "    return cords + [0, 0, 0]\n",
    "\n",
    "\n",
    "# Example use: pen at (0.1,0.1) on the page with the pen up\n",
    "point = paper_coordinates(0.1, 0.1, up=True)"
   ]
  },
  {
   "cell_type": "code",
   "execution_count": null,
   "id": "5c57e011-df84-4d30-9390-52b1aa3d8fde",
   "metadata": {},
   "outputs": [],
   "source": [
    "import xml.etree.ElementTree as ET\n",
    "\n",
    "svg_file = \"img/crogers.svg\"\n",
    "\n",
    "\n",
    "# Create a list of coordinates from SVG\n",
    "def svg_polyline_to_coordinates(svg_file):\n",
    "    tree = ET.parse(svg_file)\n",
    "    root = tree.getroot()\n",
    "\n",
    "    # Namespace handling\n",
    "    namespaces = {\"svg\": \"http://www.w3.org/2000/svg\"}\n",
    "\n",
    "    polylines = root.findall(\".//svg:polyline\", namespaces)\n",
    "    all_coordinates = []\n",
    "\n",
    "    max_x = float(\"-inf\")\n",
    "    max_y = float(\"-inf\")\n",
    "\n",
    "    for polyline in polylines:\n",
    "        points = polyline.get(\"points\")\n",
    "        if points:\n",
    "            # Split the points string into individual coordinate pairs\n",
    "            points_list = points.strip().split(\",\")\n",
    "            # Extract x and y coordinates by pairing adjacent items in the list\n",
    "            coordinates = [\n",
    "                (float(points_list[i]), float(points_list[i + 1]))\n",
    "                for i in range(0, len(points_list), 2)\n",
    "            ]\n",
    "            all_coordinates.append(coordinates)\n",
    "\n",
    "            # Update max x and y values\n",
    "            for x, y in coordinates:\n",
    "                if x > max_x:\n",
    "                    max_x = x\n",
    "                if y > max_y:\n",
    "                    max_y = y\n",
    "\n",
    "    return all_coordinates, (max_x, max_y)\n",
    "\n",
    "\n",
    "coordinates, max_vals = svg_polyline_to_coordinates(svg_file)"
   ]
  },
  {
   "cell_type": "code",
   "execution_count": null,
   "id": "fc054de6-9c5a-4198-bf9e-5985c1a7428a",
   "metadata": {},
   "outputs": [],
   "source": [
    "# Initiate ROS2 and MyUR3e Class\n",
    "from myur import MyUR3e\n",
    "\n",
    "robot = MyUR3e()"
   ]
  },
  {
   "cell_type": "code",
   "execution_count": null,
   "id": "ca05a70a-5482-45a7-b19a-07290ca834cd",
   "metadata": {},
   "outputs": [],
   "source": [
    "robot.move_gripper(100)"
   ]
  },
  {
   "cell_type": "code",
   "execution_count": null,
   "id": "ebf8724d-2fd9-4c80-9a99-e3bf59c11894",
   "metadata": {},
   "outputs": [],
   "source": [
    "# height of paper is 0.2159m\n",
    "# width of paper is 0.2794m\n",
    "draw_height = 0.18  # meters\n",
    "draw_width = 0.25  # meters\n",
    "scale_x = draw_width / max_vals[0]\n",
    "scale_y = draw_height / max_vals[1]\n",
    "scale = min(scale_x, scale_y)\n",
    "\n",
    "sim_trajectory = []  # collection of all trajectories for plot\n",
    "for line in coordinates:\n",
    "    drawing_trajectory = []\n",
    "    for i, position in enumerate(line):\n",
    "        y = 0.2159 - (position[1] * scale + ((0.2159 - draw_height) / 2))\n",
    "        x = position[0] * scale + ((0.2794 - max_vals[0] * scale) / 2)\n",
    "\n",
    "        if i == 0:\n",
    "            drawing_trajectory.append(\n",
    "                paper_coordinates(x, y, up=True)\n",
    "            )  # pen up at first point\n",
    "            drawing_trajectory.append(\n",
    "                paper_coordinates(x, y, up=False)\n",
    "            )  # pen down at first point\n",
    "        else:\n",
    "            drawing_trajectory.append(\n",
    "                paper_coordinates(x, y, up=False)\n",
    "            )  # interpolated points\n",
    "    drawing_trajectory.append(paper_coordinates(x, y, up=True))  # pen up at last point\n",
    "    sim_trajectory.extend(drawing_trajectory)\n",
    "\n",
    "    # This line actually moves the robot\n",
    "    robot.move_global(drawing_trajectory, time=(\"cv\", 0.5, 0.5))"
   ]
  },
  {
   "cell_type": "code",
   "execution_count": null,
   "id": "955471e9-26c6-42e9-bbd2-5be2dd6cab4d",
   "metadata": {},
   "outputs": [],
   "source": [
    "myrobot.clear_sim()\n",
    "myrobot.move_global(sim_trajectory,time_step=(.6,0.1),sim=True)\n",
    "HTML(filename=\"ur3e_trajectory.html\")"
   ]
  }
 ],
 "metadata": {
  "kernelspec": {
   "display_name": "Python [conda env:ros_py310]",
   "language": "python",
   "name": "conda-env-ros_py310-py"
  },
  "language_info": {
   "codemirror_mode": {
    "name": "ipython",
    "version": 3
   },
   "file_extension": ".py",
   "mimetype": "text/x-python",
   "name": "python",
   "nbconvert_exporter": "python",
   "pygments_lexer": "ipython3",
   "version": "3.10.13"
  }
 },
 "nbformat": 4,
 "nbformat_minor": 5
}
