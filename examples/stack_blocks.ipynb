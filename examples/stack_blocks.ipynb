{
 "cells": [
  {
   "cell_type": "code",
   "execution_count": 1,
   "id": "7f02e1c6-d58f-40e6-aba2-93474c977645",
   "metadata": {},
   "outputs": [],
   "source": [
    "from myur import MyUR3e\n",
    "import time\n",
    "robot = MyUR3e()"
   ]
  },
  {
   "cell_type": "code",
   "execution_count": 2,
   "id": "4cd0b734-4904-45d2-9a40-52f697a9b0f0",
   "metadata": {},
   "outputs": [],
   "source": [
    "STACK1 = [0.15,0.3] # stack1 x,y\n",
    "STACK2 = [0.25,0.3] # stack2 x,y\n",
    "ACTIVE = [0.23,0,0,0] # transfer height, orientation\n",
    "DROP = [] # relative drop trajectory, 15cm max\n",
    "for i in range(15):\n",
    "    DROP.append([0,0,-0.01,0,0,0])"
   ]
  },
  {
   "cell_type": "code",
   "execution_count": 3,
   "id": "fb6731bf-89c5-4944-be2b-099fb510f77b",
   "metadata": {},
   "outputs": [],
   "source": [
    "# function to detect block\n",
    "def detect():\n",
    "    # close gripper and start drop\n",
    "    robot.move_gripper(100,wait=False)\n",
    "    robot.move_global_r(DROP,time=7,wait=False,interp=\"linear\")\n",
    "\n",
    "    # get comparative z force and monitor in loop\n",
    "    comp_force = robot.read_force()[2]\n",
    "    z_force = robot.read_force()[2]\n",
    "    while abs(comp_force-z_force) < 1:\n",
    "        z_force = robot.read_force()[2]\n",
    "        time.sleep(0.05)\n",
    "\n",
    "    # stop robot when object detected\n",
    "    print(\"Object detected\")\n",
    "    robot.stop()\n",
    "\n",
    "# function to grab block\n",
    "def grab():\n",
    "    robot.move_global_r([[0,0,0.02,0,0,0]],time=0.3,wait=True)\n",
    "    robot.move_gripper(0)\n",
    "    robot.move_global_r([[0,0,-0.03,0,0,0]],time=0.3,wait=True)\n",
    "    robot.move_gripper(100)\n",
    "\n",
    "# function to drop block\n",
    "def drop():\n",
    "    robot.move_gripper(0,wait=False)\n",
    "    robot.move_global_r([[0,0,0.03,0,0,0]],time=0.3,wait=True)\n",
    "    robot.move_gripper(100,wait=False)\n",
    "\n",
    "# reset pose\n",
    "def reset_pos():\n",
    "    robot.move_gripper(0,wait=False)\n",
    "    robot.move_global([STACK2+ACTIVE],time=3)\n",
    "    robot.move_gripper(100)"
   ]
  },
  {
   "cell_type": "code",
   "execution_count": null,
   "id": "af333e26-eddf-4eb4-a8ef-d1ae0e8c8152",
   "metadata": {},
   "outputs": [],
   "source": [
    "reset_pos()\n",
    "while True: # forever move 3 blocks bewtween stack 1 & 2\n",
    "    for i in range(3):\n",
    "        robot.move_global([STACK2+ACTIVE],time=1)\n",
    "        detect()\n",
    "        grab()\n",
    "        robot.move_global([STACK2+ACTIVE,STACK1+ACTIVE],time=1)\n",
    "        detect()\n",
    "        drop()\n",
    "        robot.move_global([STACK1+ACTIVE],time=1)\n",
    "    for i in range(3):\n",
    "        robot.move_global([STACK1+ACTIVE],time=1)\n",
    "        detect()\n",
    "        grab()\n",
    "        robot.move_global([STACK1+ACTIVE,STACK2+ACTIVE],time=1)\n",
    "        detect()\n",
    "        drop()\n",
    "        robot.move_global([STACK2+ACTIVE],time=1)"
   ]
  }
 ],
 "metadata": {
  "kernelspec": {
   "display_name": "Python [conda env:ros_py310]",
   "language": "python",
   "name": "conda-env-ros_py310-py"
  },
  "language_info": {
   "codemirror_mode": {
    "name": "ipython",
    "version": 3
   },
   "file_extension": ".py",
   "mimetype": "text/x-python",
   "name": "python",
   "nbconvert_exporter": "python",
   "pygments_lexer": "ipython3",
   "version": "3.10.13"
  }
 },
 "nbformat": 4,
 "nbformat_minor": 5
}
