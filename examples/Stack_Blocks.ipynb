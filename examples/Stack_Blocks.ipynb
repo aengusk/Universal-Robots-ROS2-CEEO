{
 "cells": [
  {
   "cell_type": "code",
   "execution_count": 1,
   "id": "7f02e1c6-d58f-40e6-aba2-93474c977645",
   "metadata": {},
   "outputs": [],
   "source": [
    "from myur import MyUR3e\n",
    "import time\n",
    "import random\n",
    "robot = MyUR3e()"
   ]
  },
  {
   "cell_type": "code",
   "execution_count": 2,
   "id": "4cd0b734-4904-45d2-9a40-52f697a9b0f0",
   "metadata": {},
   "outputs": [],
   "source": [
    "STACK1 = [0.15,0.35] # stack1 x,y\n",
    "STACK2 = [0.25,0.35] # stack2 x,y\n",
    "STACK3 = [0.15,0.25] # stack3 x,y\n",
    "STACK4 = [0.25,0.25] # stack3 x,y\n",
    "ACTIVE = [0.28,0,0,0] # transfer height, orientation\n",
    "\n",
    "DROP = [] # relative drop trajectory, 15cm max\n",
    "for i in range(15):\n",
    "    DROP.append([0,0,-0.01,0,0,0])\n",
    "\n",
    "stacks_c = [4,0,0,0]\n",
    "stacks = [STACK1,STACK2,STACK3,STACK4]\n",
    "curr_stack = 0"
   ]
  },
  {
   "cell_type": "code",
   "execution_count": 3,
   "id": "fb6731bf-89c5-4944-be2b-099fb510f77b",
   "metadata": {},
   "outputs": [],
   "source": [
    "# function to choose a next stack\n",
    "def random_stack(grab=False):\n",
    "    global curr_stack\n",
    "    \n",
    "    options = [0,1,2,3]\n",
    "    if grab:\n",
    "        options = [index for index,value in enumerate(stacks_c) if value > 0]\n",
    "    else:\n",
    "        options.remove(curr_stack)\n",
    "        \n",
    "    curr_stack = random.choice(options)\n",
    "    \n",
    "    return stacks[curr_stack]\n",
    "\n",
    "# function to detect block\n",
    "def detect():\n",
    "    # close gripper and start drop\n",
    "    robot.move_gripper(100,wait=False)\n",
    "    gap = (4-stacks_c[curr_stack])\n",
    "    if gap != 0: robot.move_global_r([[0,0,-gap*0.03,0,0,0]],time=0.5*gap)\n",
    "    robot.move_global_r(DROP,time=7,wait=False,interp=\"linear\")\n",
    "\n",
    "    # get comparative z force and monitor in loop\n",
    "    comp_force = robot.read_force()[2]\n",
    "    z_force = robot.read_force()[2]\n",
    "    while abs(comp_force-z_force) < 1:\n",
    "        z_force = robot.read_force()[2]\n",
    "        time.sleep(0.05)\n",
    "\n",
    "    # stop robot when object detected\n",
    "    robot.stop()\n",
    "\n",
    "# function to grab block\n",
    "def grab():\n",
    "    robot.move_global_r([[0,0,0.02,0,0,0]],time=0.3,wait=True)\n",
    "    robot.move_gripper(0)\n",
    "    robot.move_global_r([[0,0,-0.03,0,0,0]],time=0.3,wait=True)\n",
    "    robot.move_gripper(100)\n",
    "\n",
    "# function to drop block\n",
    "def drop():\n",
    "    robot.move_gripper(0,wait=False)\n",
    "    robot.move_global_r([[0,0,0.03,0,0,0]],time=0.3,wait=True)\n",
    "    robot.move_gripper(100,wait=False)\n",
    "\n",
    "# reset pose\n",
    "def reset_pos(stack):\n",
    "    \n",
    "    robot.move_gripper(0,wait=False)\n",
    "    robot.move_global([stack+ACTIVE],time=3)\n",
    "    robot.move_gripper(100)"
   ]
  },
  {
   "cell_type": "code",
   "execution_count": 5,
   "id": "d77c79fb-eda7-47df-bf43-f53c575ccbe0",
   "metadata": {},
   "outputs": [
    {
     "name": "stderr",
     "output_type": "stream",
     "text": [
      "[INFO] [1722974882.736757110] [remote_control_client]: Goal #1: Executing\n",
      "[INFO] [1722974885.795203703] [remote_control_client]: Goal #1: Completed\n"
     ]
    },
    {
     "name": "stdout",
     "output_type": "stream",
     "text": [
      "Available grab stacks:  [0]\n",
      "Next stack:  0\n"
     ]
    },
    {
     "name": "stderr",
     "output_type": "stream",
     "text": [
      "[INFO] [1722974886.683557853] [remote_control_client]: Goal #2: Executing\n"
     ]
    },
    {
     "name": "stdout",
     "output_type": "stream",
     "text": [
      "0 4\n"
     ]
    },
    {
     "name": "stderr",
     "output_type": "stream",
     "text": [
      "[INFO] [1722974888.768188560] [remote_control_client]: Goal #2: Completed\n",
      "[INFO] [1722974888.783739377] [remote_control_client]: Goal #3: Executing\n"
     ]
    },
    {
     "name": "stdout",
     "output_type": "stream",
     "text": [
      "Object detected\n"
     ]
    },
    {
     "name": "stderr",
     "output_type": "stream",
     "text": [
      "[INFO] [1722974891.127853600] [remote_control_client]: Goal #3: Completed\n",
      "[INFO] [1722974891.171050125] [remote_control_client]: Goal #3: Stopped\n",
      "[INFO] [1722974891.207094266] [remote_control_client]: Goal #4: Executing\n",
      "[INFO] [1722974891.564827510] [remote_control_client]: Goal #4: Completed\n",
      "[INFO] [1722974892.457980878] [remote_control_client]: Goal #5: Executing\n",
      "[INFO] [1722974892.816756648] [remote_control_client]: Goal #5: Completed\n"
     ]
    },
    {
     "name": "stdout",
     "output_type": "stream",
     "text": [
      "Available drop stacks:  [1, 2, 3]\n",
      "Next stack:  3\n"
     ]
    },
    {
     "name": "stderr",
     "output_type": "stream",
     "text": [
      "[INFO] [1722974893.327921629] [remote_control_client]: Goal #6: Executing\n"
     ]
    },
    {
     "name": "stdout",
     "output_type": "stream",
     "text": [
      "4 0\n"
     ]
    },
    {
     "name": "stderr",
     "output_type": "stream",
     "text": [
      "[INFO] [1722974895.387784836] [remote_control_client]: Goal #6: Completed\n",
      "[INFO] [1722974895.437865722] [remote_control_client]: Goal #7: Executing\n",
      "[INFO] [1722974897.497090533] [remote_control_client]: Goal #7: Completed\n",
      "[INFO] [1722974898.536607084] [remote_control_client]: Goal #8: Executing\n"
     ]
    },
    {
     "name": "stdout",
     "output_type": "stream",
     "text": [
      "Object detected\n"
     ]
    },
    {
     "name": "stderr",
     "output_type": "stream",
     "text": [
      "[INFO] [1722974899.154125526] [remote_control_client]: Goal #8: Completed\n",
      "[INFO] [1722974899.160329548] [remote_control_client]: Goal #8: Stopped\n",
      "[INFO] [1722974899.204716159] [remote_control_client]: Goal #9: Executing\n"
     ]
    },
    {
     "name": "stdout",
     "output_type": "stream",
     "text": [
      "Available grab stacks:  [0, 3]\n",
      "Next stack:  0\n"
     ]
    },
    {
     "name": "stderr",
     "output_type": "stream",
     "text": [
      "[INFO] [1722974899.591496798] [remote_control_client]: Goal #9: Completed\n",
      "[INFO] [1722974899.612420338] [remote_control_client]: Goal #10: Executing\n"
     ]
    },
    {
     "name": "stdout",
     "output_type": "stream",
     "text": [
      "1 3\n"
     ]
    },
    {
     "name": "stderr",
     "output_type": "stream",
     "text": [
      "[INFO] [1722974901.673014514] [remote_control_client]: Goal #10: Completed\n",
      "[INFO] [1722974901.717658206] [remote_control_client]: Goal #11: Executing\n",
      "[INFO] [1722974902.326657098] [remote_control_client]: Goal #11: Completed\n",
      "[INFO] [1722974902.347972762] [remote_control_client]: Goal #12: Executing\n"
     ]
    },
    {
     "name": "stdout",
     "output_type": "stream",
     "text": [
      "Object detected\n"
     ]
    },
    {
     "name": "stderr",
     "output_type": "stream",
     "text": [
      "[INFO] [1722974904.387433711] [remote_control_client]: Goal #12: Completed\n",
      "[INFO] [1722974904.429050832] [remote_control_client]: Goal #12: Stopped\n",
      "[INFO] [1722974904.480799284] [remote_control_client]: Goal #13: Executing\n",
      "[INFO] [1722974904.840464191] [remote_control_client]: Goal #13: Completed\n",
      "[INFO] [1722974905.793982358] [remote_control_client]: Goal #14: Executing\n",
      "[INFO] [1722974906.152994698] [remote_control_client]: Goal #14: Completed\n"
     ]
    },
    {
     "name": "stdout",
     "output_type": "stream",
     "text": [
      "Available drop stacks:  [1, 2, 3]\n",
      "Next stack:  2\n"
     ]
    },
    {
     "name": "stderr",
     "output_type": "stream",
     "text": [
      "[INFO] [1722974906.602473672] [remote_control_client]: Goal #15: Executing\n"
     ]
    },
    {
     "name": "stdout",
     "output_type": "stream",
     "text": [
      "4 0\n"
     ]
    },
    {
     "name": "stderr",
     "output_type": "stream",
     "text": [
      "[INFO] [1722974908.656347408] [remote_control_client]: Goal #15: Completed\n",
      "[INFO] [1722974908.732519551] [remote_control_client]: Goal #16: Executing\n",
      "[INFO] [1722974910.836312957] [remote_control_client]: Goal #16: Completed\n",
      "[INFO] [1722974910.851780496] [remote_control_client]: Goal #17: Executing\n"
     ]
    },
    {
     "name": "stdout",
     "output_type": "stream",
     "text": [
      "Object detected\n"
     ]
    },
    {
     "name": "stderr",
     "output_type": "stream",
     "text": [
      "[INFO] [1722974911.524607608] [remote_control_client]: Goal #17: Stopped\n",
      "[INFO] [1722974911.525213894] [remote_control_client]: Goal #17: Completed\n",
      "[INFO] [1722974911.582139387] [remote_control_client]: Goal #18: Executing\n"
     ]
    },
    {
     "name": "stdout",
     "output_type": "stream",
     "text": [
      "Available grab stacks:  [0, 2, 3]\n",
      "Next stack:  3\n"
     ]
    },
    {
     "name": "stderr",
     "output_type": "stream",
     "text": [
      "[INFO] [1722974911.942680594] [remote_control_client]: Goal #18: Completed\n",
      "[INFO] [1722974912.020620668] [remote_control_client]: Goal #19: Executing\n"
     ]
    },
    {
     "name": "stdout",
     "output_type": "stream",
     "text": [
      "3 1\n"
     ]
    },
    {
     "name": "stderr",
     "output_type": "stream",
     "text": [
      "[INFO] [1722974914.083489002] [remote_control_client]: Goal #19: Completed\n",
      "[INFO] [1722974914.139702261] [remote_control_client]: Goal #20: Executing\n",
      "[INFO] [1722974915.764642330] [remote_control_client]: Goal #20: Completed\n",
      "[INFO] [1722974915.793280940] [remote_control_client]: Goal #21: Executing\n"
     ]
    },
    {
     "name": "stdout",
     "output_type": "stream",
     "text": [
      "Object detected\n"
     ]
    },
    {
     "name": "stderr",
     "output_type": "stream",
     "text": [
      "[INFO] [1722974917.280419223] [remote_control_client]: Goal #21: Stopped\n",
      "[INFO] [1722974917.280905713] [remote_control_client]: Goal #21: Completed\n",
      "[INFO] [1722974917.366010070] [remote_control_client]: Goal #22: Executing\n",
      "[INFO] [1722974917.724797132] [remote_control_client]: Goal #22: Completed\n",
      "[INFO] [1722974918.640619569] [remote_control_client]: Goal #23: Executing\n",
      "[INFO] [1722974919.000444889] [remote_control_client]: Goal #23: Completed\n"
     ]
    },
    {
     "name": "stdout",
     "output_type": "stream",
     "text": [
      "Available drop stacks:  [0, 1, 2]\n",
      "Next stack:  0\n"
     ]
    },
    {
     "name": "stderr",
     "output_type": "stream",
     "text": [
      "[INFO] [1722974919.462187765] [remote_control_client]: Goal #24: Executing\n"
     ]
    },
    {
     "name": "stdout",
     "output_type": "stream",
     "text": [
      "2 2\n"
     ]
    },
    {
     "name": "stderr",
     "output_type": "stream",
     "text": [
      "[INFO] [1722974921.522660685] [remote_control_client]: Goal #24: Completed\n",
      "[INFO] [1722974921.585838420] [remote_control_client]: Goal #25: Executing\n",
      "[INFO] [1722974922.640682045] [remote_control_client]: Goal #25: Completed\n",
      "[INFO] [1722974922.746528422] [remote_control_client]: Goal #26: Executing\n"
     ]
    },
    {
     "name": "stdout",
     "output_type": "stream",
     "text": [
      "Object detected\n"
     ]
    },
    {
     "name": "stderr",
     "output_type": "stream",
     "text": [
      "[INFO] [1722974923.928749725] [remote_control_client]: Goal #26: Stopped\n",
      "[INFO] [1722974923.973165670] [remote_control_client]: Goal #26: Completed\n",
      "[INFO] [1722974924.001377412] [remote_control_client]: Goal #27: Executing\n"
     ]
    },
    {
     "name": "stdout",
     "output_type": "stream",
     "text": [
      "Available grab stacks:  [0, 2]\n",
      "Next stack:  2\n"
     ]
    },
    {
     "name": "stderr",
     "output_type": "stream",
     "text": [
      "[INFO] [1722974924.414306912] [remote_control_client]: Goal #27: Completed\n",
      "[INFO] [1722974924.429174641] [remote_control_client]: Goal #28: Executing\n"
     ]
    },
    {
     "name": "stdout",
     "output_type": "stream",
     "text": [
      "3 1\n"
     ]
    },
    {
     "name": "stderr",
     "output_type": "stream",
     "text": [
      "[INFO] [1722974926.483682756] [remote_control_client]: Goal #28: Completed\n",
      "[INFO] [1722974926.588266581] [remote_control_client]: Goal #29: Executing\n",
      "[INFO] [1722974928.153736671] [remote_control_client]: Goal #29: Completed\n",
      "[INFO] [1722974928.255262131] [remote_control_client]: Goal #30: Executing\n"
     ]
    },
    {
     "name": "stdout",
     "output_type": "stream",
     "text": [
      "Object detected\n"
     ]
    },
    {
     "name": "stderr",
     "output_type": "stream",
     "text": [
      "[INFO] [1722974929.793363381] [remote_control_client]: Goal #30: Completed\n",
      "[INFO] [1722974929.794496756] [remote_control_client]: Goal #30: Stopped\n",
      "[INFO] [1722974929.869120995] [remote_control_client]: Goal #31: Executing\n",
      "[INFO] [1722974930.178544135] [remote_control_client]: Goal #31: Completed\n",
      "[INFO] [1722974931.107870808] [remote_control_client]: Goal #32: Executing\n",
      "[INFO] [1722974931.467501898] [remote_control_client]: Goal #32: Completed\n"
     ]
    },
    {
     "name": "stdout",
     "output_type": "stream",
     "text": [
      "Available drop stacks:  [0, 1, 3]\n",
      "Next stack:  1\n"
     ]
    },
    {
     "name": "stderr",
     "output_type": "stream",
     "text": [
      "[INFO] [1722974931.940607462] [remote_control_client]: Goal #33: Executing\n"
     ]
    },
    {
     "name": "stdout",
     "output_type": "stream",
     "text": [
      "4 0\n"
     ]
    },
    {
     "name": "stderr",
     "output_type": "stream",
     "text": [
      "[INFO] [1722974934.000909132] [remote_control_client]: Goal #33: Completed\n",
      "[INFO] [1722974934.078967731] [remote_control_client]: Goal #34: Executing\n",
      "[INFO] [1722974936.174073447] [remote_control_client]: Goal #34: Completed\n",
      "[INFO] [1722974936.243167121] [remote_control_client]: Goal #35: Executing\n"
     ]
    },
    {
     "name": "stdout",
     "output_type": "stream",
     "text": [
      "Object detected\n"
     ]
    },
    {
     "name": "stderr",
     "output_type": "stream",
     "text": [
      "[INFO] [1722974936.869533504] [remote_control_client]: Goal #35: Stopped\n",
      "[INFO] [1722974936.870213641] [remote_control_client]: Goal #35: Completed\n",
      "[INFO] [1722974936.956119462] [remote_control_client]: Goal #36: Executing\n"
     ]
    },
    {
     "name": "stdout",
     "output_type": "stream",
     "text": [
      "Available grab stacks:  [0, 1]\n",
      "Next stack:  1\n"
     ]
    },
    {
     "name": "stderr",
     "output_type": "stream",
     "text": [
      "[INFO] [1722974937.357558108] [remote_control_client]: Goal #36: Completed\n",
      "[INFO] [1722974937.450537580] [remote_control_client]: Goal #37: Executing\n"
     ]
    },
    {
     "name": "stdout",
     "output_type": "stream",
     "text": [
      "3 1\n"
     ]
    },
    {
     "name": "stderr",
     "output_type": "stream",
     "text": [
      "[INFO] [1722974939.604596691] [remote_control_client]: Goal #37: Completed\n",
      "[INFO] [1722974939.623609845] [remote_control_client]: Goal #38: Executing\n",
      "[INFO] [1722974941.251857175] [remote_control_client]: Goal #38: Completed\n",
      "[INFO] [1722974941.309290017] [remote_control_client]: Goal #39: Executing\n"
     ]
    },
    {
     "name": "stdout",
     "output_type": "stream",
     "text": [
      "Object detected\n"
     ]
    },
    {
     "name": "stderr",
     "output_type": "stream",
     "text": [
      "[INFO] [1722974942.741202593] [remote_control_client]: Goal #39: Stopped\n",
      "[INFO] [1722974942.778899177] [remote_control_client]: Goal #39: Completed\n",
      "[INFO] [1722974942.825517376] [remote_control_client]: Goal #40: Executing\n",
      "[INFO] [1722974943.185285214] [remote_control_client]: Goal #40: Completed\n",
      "[INFO] [1722974944.125127673] [remote_control_client]: Goal #41: Executing\n",
      "[INFO] [1722974944.435867983] [remote_control_client]: Goal #41: Completed\n"
     ]
    },
    {
     "name": "stdout",
     "output_type": "stream",
     "text": [
      "Available drop stacks:  [0, 2, 3]\n",
      "Next stack:  3\n"
     ]
    },
    {
     "name": "stderr",
     "output_type": "stream",
     "text": [
      "[INFO] [1722974944.969506734] [remote_control_client]: Goal #42: Executing\n"
     ]
    },
    {
     "name": "stdout",
     "output_type": "stream",
     "text": [
      "4 0\n"
     ]
    },
    {
     "name": "stderr",
     "output_type": "stream",
     "text": [
      "[INFO] [1722974947.079909559] [remote_control_client]: Goal #42: Completed\n",
      "[INFO] [1722974947.185051914] [remote_control_client]: Goal #43: Executing\n",
      "[INFO] [1722974949.203808135] [remote_control_client]: Goal #43: Completed\n",
      "[INFO] [1722974949.331453889] [remote_control_client]: Goal #44: Executing\n"
     ]
    },
    {
     "name": "stdout",
     "output_type": "stream",
     "text": [
      "Object detected\n"
     ]
    },
    {
     "name": "stderr",
     "output_type": "stream",
     "text": [
      "[INFO] [1722974950.051208187] [remote_control_client]: Goal #44: Completed\n",
      "[INFO] [1722974950.051712023] [remote_control_client]: Goal #44: Stopped\n",
      "[INFO] [1722974950.175714280] [remote_control_client]: Goal #45: Executing\n"
     ]
    },
    {
     "name": "stdout",
     "output_type": "stream",
     "text": [
      "Available grab stacks:  [0, 3]\n",
      "Next stack:  3\n"
     ]
    },
    {
     "name": "stderr",
     "output_type": "stream",
     "text": [
      "[INFO] [1722974950.600256645] [remote_control_client]: Goal #45: Completed\n",
      "[INFO] [1722974950.631065910] [remote_control_client]: Goal #46: Executing\n"
     ]
    },
    {
     "name": "stdout",
     "output_type": "stream",
     "text": [
      "3 1\n"
     ]
    },
    {
     "name": "stderr",
     "output_type": "stream",
     "text": [
      "[INFO] [1722974952.718145459] [remote_control_client]: Goal #46: Completed\n",
      "[INFO] [1722974952.769329921] [remote_control_client]: Goal #47: Executing\n",
      "[INFO] [1722974954.322554178] [remote_control_client]: Goal #47: Completed\n",
      "[INFO] [1722974954.463908876] [remote_control_client]: Goal #48: Executing\n"
     ]
    },
    {
     "name": "stdout",
     "output_type": "stream",
     "text": [
      "Object detected\n"
     ]
    },
    {
     "name": "stderr",
     "output_type": "stream",
     "text": [
      "[INFO] [1722974955.944294966] [remote_control_client]: Goal #48: Completed\n",
      "[INFO] [1722974955.985829748] [remote_control_client]: Goal #48: Stopped\n",
      "[INFO] [1722974956.084214754] [remote_control_client]: Goal #49: Executing\n",
      "[INFO] [1722974956.447341156] [remote_control_client]: Goal #49: Completed\n",
      "[INFO] [1722974957.447839053] [remote_control_client]: Goal #50: Executing\n",
      "[INFO] [1722974957.811299851] [remote_control_client]: Goal #50: Completed\n"
     ]
    },
    {
     "name": "stdout",
     "output_type": "stream",
     "text": [
      "Available drop stacks:  [0, 1, 2]\n",
      "Next stack:  1\n"
     ]
    },
    {
     "name": "stderr",
     "output_type": "stream",
     "text": [
      "[INFO] [1722974958.255683982] [remote_control_client]: Goal #51: Executing\n"
     ]
    },
    {
     "name": "stdout",
     "output_type": "stream",
     "text": [
      "4 0\n"
     ]
    },
    {
     "name": "stderr",
     "output_type": "stream",
     "text": [
      "[INFO] [1722974960.318051913] [remote_control_client]: Goal #51: Completed\n",
      "[INFO] [1722974960.418362096] [remote_control_client]: Goal #52: Executing\n",
      "[INFO] [1722974962.476601375] [remote_control_client]: Goal #52: Completed\n",
      "[INFO] [1722974962.615523028] [remote_control_client]: Goal #53: Executing\n"
     ]
    },
    {
     "name": "stdout",
     "output_type": "stream",
     "text": [
      "Object detected\n"
     ]
    },
    {
     "name": "stderr",
     "output_type": "stream",
     "text": [
      "[INFO] [1722974963.189970972] [remote_control_client]: Goal #53: Stopped\n",
      "[INFO] [1722974963.191672725] [remote_control_client]: Goal #53: Completed\n",
      "[INFO] [1722974963.295595520] [remote_control_client]: Goal #54: Executing\n"
     ]
    },
    {
     "name": "stdout",
     "output_type": "stream",
     "text": [
      "Available grab stacks:  [0, 1]\n",
      "Next stack:  0\n"
     ]
    },
    {
     "name": "stderr",
     "output_type": "stream",
     "text": [
      "[INFO] [1722974963.746610488] [remote_control_client]: Goal #54: Completed\n",
      "[INFO] [1722974963.761186352] [remote_control_client]: Goal #55: Executing\n"
     ]
    },
    {
     "name": "stdout",
     "output_type": "stream",
     "text": [
      "1 3\n"
     ]
    },
    {
     "name": "stderr",
     "output_type": "stream",
     "text": [
      "[INFO] [1722974965.824161026] [remote_control_client]: Goal #55: Completed\n",
      "[INFO] [1722974965.929491264] [remote_control_client]: Goal #56: Executing\n",
      "[INFO] [1722974966.514496019] [remote_control_client]: Goal #56: Completed\n",
      "[INFO] [1722974966.639062496] [remote_control_client]: Goal #57: Executing\n"
     ]
    },
    {
     "name": "stdout",
     "output_type": "stream",
     "text": [
      "Object detected\n"
     ]
    },
    {
     "name": "stderr",
     "output_type": "stream",
     "text": [
      "[INFO] [1722974968.676506500] [remote_control_client]: Goal #57: Completed\n",
      "[INFO] [1722974968.677770537] [remote_control_client]: Goal #57: Stopped\n",
      "[INFO] [1722974968.786649352] [remote_control_client]: Goal #58: Executing\n",
      "[INFO] [1722974969.149143464] [remote_control_client]: Goal #58: Completed\n",
      "[INFO] [1722974970.108531732] [remote_control_client]: Goal #59: Executing\n",
      "[INFO] [1722974970.468952574] [remote_control_client]: Goal #59: Completed\n"
     ]
    },
    {
     "name": "stdout",
     "output_type": "stream",
     "text": [
      "Available drop stacks:  [1, 2, 3]\n",
      "Next stack:  1\n"
     ]
    },
    {
     "name": "stderr",
     "output_type": "stream",
     "text": [
      "[INFO] [1722974971.028508383] [remote_control_client]: Goal #60: Executing\n"
     ]
    },
    {
     "name": "stdout",
     "output_type": "stream",
     "text": [
      "3 1\n"
     ]
    },
    {
     "name": "stderr",
     "output_type": "stream",
     "text": [
      "[INFO] [1722974973.082336637] [remote_control_client]: Goal #60: Completed\n",
      "[INFO] [1722974973.269257307] [remote_control_client]: Goal #61: Executing\n",
      "[INFO] [1722974974.779033814] [remote_control_client]: Goal #61: Completed\n",
      "[INFO] [1722974974.901259749] [remote_control_client]: Goal #62: Executing\n"
     ]
    },
    {
     "name": "stdout",
     "output_type": "stream",
     "text": [
      "Object detected\n"
     ]
    },
    {
     "name": "stderr",
     "output_type": "stream",
     "text": [
      "[INFO] [1722974975.888314664] [remote_control_client]: Goal #62: Completed\n",
      "[INFO] [1722974975.888421077] [remote_control_client]: Goal #62: Stopped\n",
      "[INFO] [1722974976.003971387] [remote_control_client]: Goal #63: Executing\n"
     ]
    },
    {
     "name": "stdout",
     "output_type": "stream",
     "text": [
      "Available grab stacks:  [0, 1]\n",
      "Next stack:  1\n"
     ]
    },
    {
     "name": "stderr",
     "output_type": "stream",
     "text": [
      "[INFO] [1722974976.358203492] [remote_control_client]: Goal #63: Completed\n",
      "[INFO] [1722974976.518867182] [remote_control_client]: Goal #64: Executing\n"
     ]
    },
    {
     "name": "stdout",
     "output_type": "stream",
     "text": [
      "2 2\n"
     ]
    },
    {
     "name": "stderr",
     "output_type": "stream",
     "text": [
      "[INFO] [1722974978.624413642] [remote_control_client]: Goal #64: Completed\n",
      "[INFO] [1722974978.751578264] [remote_control_client]: Goal #65: Executing\n",
      "[INFO] [1722974979.919759897] [remote_control_client]: Goal #65: Completed\n",
      "[INFO] [1722974979.941434005] [remote_control_client]: Goal #66: Executing\n"
     ]
    },
    {
     "name": "stdout",
     "output_type": "stream",
     "text": [
      "Object detected\n"
     ]
    },
    {
     "name": "stderr",
     "output_type": "stream",
     "text": [
      "[INFO] [1722974981.672912364] [remote_control_client]: Goal #66: Completed\n",
      "[INFO] [1722974981.674032945] [remote_control_client]: Goal #66: Stopped\n",
      "[INFO] [1722974981.800381549] [remote_control_client]: Goal #67: Executing\n",
      "[INFO] [1722974982.162074853] [remote_control_client]: Goal #67: Completed\n",
      "[INFO] [1722974983.142735438] [remote_control_client]: Goal #68: Executing\n",
      "[INFO] [1722974983.504253316] [remote_control_client]: Goal #68: Completed\n"
     ]
    },
    {
     "name": "stdout",
     "output_type": "stream",
     "text": [
      "Available drop stacks:  [0, 2, 3]\n",
      "Next stack:  2\n"
     ]
    },
    {
     "name": "stderr",
     "output_type": "stream",
     "text": [
      "[INFO] [1722974984.132701216] [remote_control_client]: Goal #69: Executing\n"
     ]
    },
    {
     "name": "stdout",
     "output_type": "stream",
     "text": [
      "4 0\n"
     ]
    },
    {
     "name": "stderr",
     "output_type": "stream",
     "text": [
      "[INFO] [1722974986.309662543] [remote_control_client]: Goal #69: Completed\n",
      "[INFO] [1722974986.350662272] [remote_control_client]: Goal #70: Executing\n",
      "[INFO] [1722974988.416017894] [remote_control_client]: Goal #70: Completed\n",
      "[INFO] [1722974988.551401611] [remote_control_client]: Goal #71: Executing\n"
     ]
    },
    {
     "name": "stdout",
     "output_type": "stream",
     "text": [
      "Object detected\n"
     ]
    },
    {
     "name": "stderr",
     "output_type": "stream",
     "text": [
      "[INFO] [1722974989.218819208] [remote_control_client]: Goal #71: Completed\n",
      "[INFO] [1722974989.227819449] [remote_control_client]: Goal #71: Stopped\n",
      "[INFO] [1722974989.391014944] [remote_control_client]: Goal #72: Executing\n"
     ]
    },
    {
     "name": "stdout",
     "output_type": "stream",
     "text": [
      "Available grab stacks:  [0, 1, 2]\n",
      "Next stack:  1\n"
     ]
    },
    {
     "name": "stderr",
     "output_type": "stream",
     "text": [
      "[INFO] [1722974989.782756247] [remote_control_client]: Goal #72: Completed\n",
      "[INFO] [1722974989.859991624] [remote_control_client]: Goal #73: Executing\n"
     ]
    },
    {
     "name": "stdout",
     "output_type": "stream",
     "text": [
      "3 1\n"
     ]
    },
    {
     "name": "stderr",
     "output_type": "stream",
     "text": [
      "[INFO] [1722974991.923104700] [remote_control_client]: Goal #73: Completed\n",
      "[INFO] [1722974992.053785362] [remote_control_client]: Goal #74: Executing\n",
      "[INFO] [1722974993.613765176] [remote_control_client]: Goal #74: Completed\n",
      "[INFO] [1722974993.789580440] [remote_control_client]: Goal #75: Executing\n"
     ]
    },
    {
     "name": "stdout",
     "output_type": "stream",
     "text": [
      "Object detected\n"
     ]
    },
    {
     "name": "stderr",
     "output_type": "stream",
     "text": [
      "[INFO] [1722974995.273501958] [remote_control_client]: Goal #75: Stopped\n",
      "[INFO] [1722974995.278046991] [remote_control_client]: Goal #75: Completed\n",
      "[INFO] [1722974995.412739337] [remote_control_client]: Goal #76: Executing\n",
      "[INFO] [1722974995.773174702] [remote_control_client]: Goal #76: Completed\n",
      "[INFO] [1722974996.763666795] [remote_control_client]: Goal #77: Executing\n",
      "[INFO] [1722974997.125751131] [remote_control_client]: Goal #77: Completed\n"
     ]
    },
    {
     "name": "stdout",
     "output_type": "stream",
     "text": [
      "Available drop stacks:  [0, 2, 3]\n",
      "Next stack:  3\n"
     ]
    },
    {
     "name": "stderr",
     "output_type": "stream",
     "text": [
      "[INFO] [1722974997.658772831] [remote_control_client]: Goal #78: Executing\n"
     ]
    },
    {
     "name": "stdout",
     "output_type": "stream",
     "text": [
      "4 0\n"
     ]
    },
    {
     "name": "stderr",
     "output_type": "stream",
     "text": [
      "[INFO] [1722974999.793240132] [remote_control_client]: Goal #78: Completed\n",
      "[INFO] [1722974999.925732749] [remote_control_client]: Goal #79: Executing\n",
      "[INFO] [1722975001.995258276] [remote_control_client]: Goal #79: Completed\n",
      "[INFO] [1722975002.134074041] [remote_control_client]: Goal #80: Executing\n"
     ]
    },
    {
     "name": "stdout",
     "output_type": "stream",
     "text": [
      "Object detected\n"
     ]
    },
    {
     "name": "stderr",
     "output_type": "stream",
     "text": [
      "[INFO] [1722975002.810411071] [remote_control_client]: Goal #80: Stopped\n",
      "[INFO] [1722975002.810690241] [remote_control_client]: Goal #80: Completed\n",
      "[INFO] [1722975002.950573352] [remote_control_client]: Goal #81: Executing\n",
      "[INFO] [1722975003.312613661] [remote_control_client]: Goal #81: Completed\n"
     ]
    },
    {
     "name": "stdout",
     "output_type": "stream",
     "text": [
      "Available grab stacks:  [0, 2, 3]\n",
      "Next stack:  0\n"
     ]
    },
    {
     "name": "stderr",
     "output_type": "stream",
     "text": [
      "[INFO] [1722975003.677621495] [remote_control_client]: Goal #82: Executing\n"
     ]
    },
    {
     "name": "stdout",
     "output_type": "stream",
     "text": [
      "2 2\n"
     ]
    },
    {
     "name": "stderr",
     "output_type": "stream",
     "text": [
      "[INFO] [1722975005.741936109] [remote_control_client]: Goal #82: Completed\n",
      "[INFO] [1722975005.922150096] [remote_control_client]: Goal #83: Executing\n",
      "[INFO] [1722975006.988666418] [remote_control_client]: Goal #83: Completed\n",
      "[INFO] [1722975007.137395079] [remote_control_client]: Goal #84: Executing\n"
     ]
    },
    {
     "name": "stdout",
     "output_type": "stream",
     "text": [
      "Object detected\n"
     ]
    },
    {
     "name": "stderr",
     "output_type": "stream",
     "text": [
      "[INFO] [1722975008.925551398] [remote_control_client]: Goal #84: Stopped\n",
      "[INFO] [1722975008.926066171] [remote_control_client]: Goal #84: Completed\n",
      "[INFO] [1722975009.074843262] [remote_control_client]: Goal #85: Executing\n",
      "[INFO] [1722975009.437169851] [remote_control_client]: Goal #85: Completed\n",
      "[INFO] [1722975010.434753135] [remote_control_client]: Goal #86: Executing\n",
      "[INFO] [1722975010.797411212] [remote_control_client]: Goal #86: Completed\n"
     ]
    },
    {
     "name": "stdout",
     "output_type": "stream",
     "text": [
      "Available drop stacks:  [1, 2, 3]\n",
      "Next stack:  3\n"
     ]
    },
    {
     "name": "stderr",
     "output_type": "stream",
     "text": [
      "[INFO] [1722975011.375296807] [remote_control_client]: Goal #87: Executing\n"
     ]
    },
    {
     "name": "stdout",
     "output_type": "stream",
     "text": [
      "3 1\n"
     ]
    },
    {
     "name": "stderr",
     "output_type": "stream",
     "text": [
      "[INFO] [1722975013.471358282] [remote_control_client]: Goal #87: Completed\n",
      "[INFO] [1722975013.625352762] [remote_control_client]: Goal #88: Executing\n",
      "[INFO] [1722975015.188511327] [remote_control_client]: Goal #88: Completed\n",
      "[INFO] [1722975015.385647760] [remote_control_client]: Goal #89: Executing\n"
     ]
    },
    {
     "name": "stdout",
     "output_type": "stream",
     "text": [
      "Object detected\n"
     ]
    },
    {
     "name": "stderr",
     "output_type": "stream",
     "text": [
      "[INFO] [1722975015.959154739] [remote_control_client]: Goal #89: Completed\n",
      "[INFO] [1722975015.960510218] [remote_control_client]: Goal #89: Stopped\n",
      "[INFO] [1722975016.151102520] [remote_control_client]: Goal #90: Executing\n"
     ]
    },
    {
     "name": "stdout",
     "output_type": "stream",
     "text": [
      "Available grab stacks:  [0, 2, 3]\n",
      "Next stack:  0\n"
     ]
    },
    {
     "name": "stderr",
     "output_type": "stream",
     "text": [
      "[INFO] [1722975016.636099926] [remote_control_client]: Goal #90: Completed\n",
      "[INFO] [1722975016.651508326] [remote_control_client]: Goal #91: Executing\n"
     ]
    },
    {
     "name": "stdout",
     "output_type": "stream",
     "text": [
      "3 1\n"
     ]
    },
    {
     "name": "stderr",
     "output_type": "stream",
     "text": [
      "[INFO] [1722975018.705428733] [remote_control_client]: Goal #91: Completed\n",
      "[INFO] [1722975018.869702892] [remote_control_client]: Goal #92: Executing\n",
      "[INFO] [1722975020.440566158] [remote_control_client]: Goal #92: Completed\n",
      "[INFO] [1722975020.630636248] [remote_control_client]: Goal #93: Executing\n"
     ]
    },
    {
     "name": "stdout",
     "output_type": "stream",
     "text": [
      "Object detected\n"
     ]
    },
    {
     "name": "stderr",
     "output_type": "stream",
     "text": [
      "[INFO] [1722975022.117432284] [remote_control_client]: Goal #93: Stopped\n",
      "[INFO] [1722975022.241984175] [remote_control_client]: Goal #93: Completed\n",
      "[INFO] [1722975022.290889692] [remote_control_client]: Goal #94: Executing\n",
      "[INFO] [1722975022.602174954] [remote_control_client]: Goal #94: Completed\n",
      "[INFO] [1722975023.699511694] [remote_control_client]: Goal #95: Executing\n",
      "[INFO] [1722975024.060038994] [remote_control_client]: Goal #95: Completed\n"
     ]
    },
    {
     "name": "stdout",
     "output_type": "stream",
     "text": [
      "Available drop stacks:  [1, 2, 3]\n",
      "Next stack:  2\n"
     ]
    },
    {
     "name": "stderr",
     "output_type": "stream",
     "text": [
      "[INFO] [1722975024.583183653] [remote_control_client]: Goal #96: Executing\n"
     ]
    },
    {
     "name": "stdout",
     "output_type": "stream",
     "text": [
      "3 1\n"
     ]
    },
    {
     "name": "stderr",
     "output_type": "stream",
     "text": [
      "[INFO] [1722975026.668174844] [remote_control_client]: Goal #96: Completed\n",
      "[INFO] [1722975026.761918950] [remote_control_client]: Goal #97: Executing\n",
      "[INFO] [1722975028.330652711] [remote_control_client]: Goal #97: Completed\n",
      "[INFO] [1722975028.560401289] [remote_control_client]: Goal #98: Executing\n"
     ]
    },
    {
     "name": "stdout",
     "output_type": "stream",
     "text": [
      "Object detected\n"
     ]
    },
    {
     "name": "stderr",
     "output_type": "stream",
     "text": [
      "[INFO] [1722975029.187030023] [remote_control_client]: Goal #98: Stopped\n",
      "[INFO] [1722975029.205633649] [remote_control_client]: Goal #98: Completed\n",
      "[INFO] [1722975029.353761478] [remote_control_client]: Goal #99: Executing\n"
     ]
    },
    {
     "name": "stdout",
     "output_type": "stream",
     "text": [
      "Available grab stacks:  [2, 3]\n",
      "Next stack:  3\n"
     ]
    },
    {
     "name": "stderr",
     "output_type": "stream",
     "text": [
      "[INFO] [1722975029.707662544] [remote_control_client]: Goal #99: Completed\n",
      "[INFO] [1722975029.924584334] [remote_control_client]: Goal #100: Executing\n"
     ]
    },
    {
     "name": "stdout",
     "output_type": "stream",
     "text": [
      "2 2\n"
     ]
    },
    {
     "name": "stderr",
     "output_type": "stream",
     "text": [
      "[INFO] [1722975032.129852853] [remote_control_client]: Goal #100: Completed\n",
      "[INFO] [1722975032.155533151] [remote_control_client]: Goal #101: Executing\n",
      "[INFO] [1722975033.220469717] [remote_control_client]: Goal #101: Completed\n",
      "[INFO] [1722975033.388462564] [remote_control_client]: Goal #102: Executing\n"
     ]
    },
    {
     "name": "stdout",
     "output_type": "stream",
     "text": [
      "Object detected\n"
     ]
    },
    {
     "name": "stderr",
     "output_type": "stream",
     "text": [
      "[INFO] [1722975035.175231352] [remote_control_client]: Goal #102: Stopped\n",
      "[INFO] [1722975035.175400864] [remote_control_client]: Goal #102: Completed\n",
      "[INFO] [1722975035.420430109] [remote_control_client]: Goal #103: Executing\n",
      "[INFO] [1722975035.779109850] [remote_control_client]: Goal #103: Completed\n",
      "[INFO] [1722975036.805344663] [remote_control_client]: Goal #104: Executing\n",
      "[INFO] [1722975037.165869822] [remote_control_client]: Goal #104: Completed\n"
     ]
    },
    {
     "name": "stdout",
     "output_type": "stream",
     "text": [
      "Available drop stacks:  [0, 1, 2]\n",
      "Next stack:  2\n"
     ]
    },
    {
     "name": "stderr",
     "output_type": "stream",
     "text": [
      "[INFO] [1722975037.759542863] [remote_control_client]: Goal #105: Executing\n"
     ]
    },
    {
     "name": "stdout",
     "output_type": "stream",
     "text": [
      "2 2\n"
     ]
    },
    {
     "name": "stderr",
     "output_type": "stream",
     "text": [
      "[INFO] [1722975039.813520896] [remote_control_client]: Goal #105: Completed\n",
      "[INFO] [1722975040.031498624] [remote_control_client]: Goal #106: Executing\n",
      "[INFO] [1722975041.096471583] [remote_control_client]: Goal #106: Completed\n",
      "[INFO] [1722975041.277688928] [remote_control_client]: Goal #107: Executing\n"
     ]
    },
    {
     "name": "stdout",
     "output_type": "stream",
     "text": [
      "Object detected\n"
     ]
    },
    {
     "name": "stderr",
     "output_type": "stream",
     "text": [
      "[INFO] [1722975042.559489504] [remote_control_client]: Goal #107: Completed\n",
      "[INFO] [1722975042.559635507] [remote_control_client]: Goal #107: Stopped\n",
      "[INFO] [1722975042.772665778] [remote_control_client]: Goal #108: Executing\n"
     ]
    },
    {
     "name": "stdout",
     "output_type": "stream",
     "text": [
      "Available grab stacks:  [2, 3]\n",
      "Next stack:  2\n"
     ]
    },
    {
     "name": "stderr",
     "output_type": "stream",
     "text": [
      "[INFO] [1722975043.162598506] [remote_control_client]: Goal #108: Completed\n",
      "[INFO] [1722975043.316343956] [remote_control_client]: Goal #109: Executing\n"
     ]
    },
    {
     "name": "stdout",
     "output_type": "stream",
     "text": [
      "1 3\n"
     ]
    },
    {
     "name": "stderr",
     "output_type": "stream",
     "text": [
      "[INFO] [1722975045.370461916] [remote_control_client]: Goal #109: Completed\n",
      "[INFO] [1722975045.626745999] [remote_control_client]: Goal #110: Executing\n",
      "[INFO] [1722975046.197227446] [remote_control_client]: Goal #110: Completed\n",
      "[INFO] [1722975046.417195650] [remote_control_client]: Goal #111: Executing\n"
     ]
    },
    {
     "name": "stdout",
     "output_type": "stream",
     "text": [
      "Object detected\n"
     ]
    },
    {
     "name": "stderr",
     "output_type": "stream",
     "text": [
      "[INFO] [1722975048.513691583] [remote_control_client]: Goal #111: Completed\n",
      "[INFO] [1722975048.515171163] [remote_control_client]: Goal #111: Stopped\n",
      "[INFO] [1722975048.742461737] [remote_control_client]: Goal #112: Executing\n",
      "[INFO] [1722975049.105150383] [remote_control_client]: Goal #112: Completed\n",
      "[INFO] [1722975050.088865926] [remote_control_client]: Goal #113: Executing\n",
      "[INFO] [1722975050.402409463] [remote_control_client]: Goal #113: Completed\n"
     ]
    },
    {
     "name": "stdout",
     "output_type": "stream",
     "text": [
      "Available drop stacks:  [0, 1, 3]\n",
      "Next stack:  0\n"
     ]
    },
    {
     "name": "stderr",
     "output_type": "stream",
     "text": [
      "[INFO] [1722975051.067639125] [remote_control_client]: Goal #114: Executing\n"
     ]
    },
    {
     "name": "stdout",
     "output_type": "stream",
     "text": [
      "4 0\n"
     ]
    },
    {
     "name": "stderr",
     "output_type": "stream",
     "text": [
      "[INFO] [1722975053.246950655] [remote_control_client]: Goal #114: Completed\n",
      "[INFO] [1722975053.317914281] [remote_control_client]: Goal #115: Executing\n",
      "[INFO] [1722975055.393261641] [remote_control_client]: Goal #115: Completed\n",
      "[INFO] [1722975055.635642961] [remote_control_client]: Goal #116: Executing\n"
     ]
    },
    {
     "name": "stdout",
     "output_type": "stream",
     "text": [
      "Object detected\n"
     ]
    },
    {
     "name": "stderr",
     "output_type": "stream",
     "text": [
      "[INFO] [1722975056.254969526] [remote_control_client]: Goal #116: Completed\n",
      "[INFO] [1722975056.265342371] [remote_control_client]: Goal #116: Stopped\n",
      "[INFO] [1722975056.458094018] [remote_control_client]: Goal #117: Executing\n",
      "[INFO] [1722975056.821453380] [remote_control_client]: Goal #117: Completed\n"
     ]
    },
    {
     "name": "stdout",
     "output_type": "stream",
     "text": [
      "Available grab stacks:  [0, 2, 3]\n",
      "Next stack:  3\n"
     ]
    },
    {
     "name": "stderr",
     "output_type": "stream",
     "text": [
      "[INFO] [1722975057.684128900] [remote_control_client]: Goal #118: Executing\n"
     ]
    },
    {
     "name": "stdout",
     "output_type": "stream",
     "text": [
      "3 1\n"
     ]
    },
    {
     "name": "stderr",
     "output_type": "stream",
     "text": [
      "[INFO] [1722975059.944946791] [remote_control_client]: Goal #118: Completed\n",
      "[INFO] [1722975059.960607649] [remote_control_client]: Goal #119: Executing\n",
      "[INFO] [1722975061.526235110] [remote_control_client]: Goal #119: Completed\n",
      "[INFO] [1722975061.723396385] [remote_control_client]: Goal #120: Executing\n"
     ]
    },
    {
     "name": "stdout",
     "output_type": "stream",
     "text": [
      "Object detected\n"
     ]
    },
    {
     "name": "stderr",
     "output_type": "stream",
     "text": [
      "[INFO] [1722975063.198662636] [remote_control_client]: Goal #120: Completed\n",
      "[INFO] [1722975063.209619240] [remote_control_client]: Goal #120: Stopped\n",
      "[INFO] [1722975063.439397540] [remote_control_client]: Goal #121: Executing\n",
      "[INFO] [1722975063.802469827] [remote_control_client]: Goal #121: Completed\n",
      "[INFO] [1722975064.848087000] [remote_control_client]: Goal #122: Executing\n",
      "[INFO] [1722975065.211612770] [remote_control_client]: Goal #122: Completed\n"
     ]
    },
    {
     "name": "stdout",
     "output_type": "stream",
     "text": [
      "Available drop stacks:  [0, 1, 2]\n",
      "Next stack:  2\n"
     ]
    },
    {
     "name": "stderr",
     "output_type": "stream",
     "text": [
      "[INFO] [1722975065.890374206] [remote_control_client]: Goal #123: Executing\n"
     ]
    },
    {
     "name": "stdout",
     "output_type": "stream",
     "text": [
      "2 2\n"
     ]
    },
    {
     "name": "stderr",
     "output_type": "stream",
     "text": [
      "[INFO] [1722975067.955967030] [remote_control_client]: Goal #123: Completed\n",
      "[INFO] [1722975068.152199253] [remote_control_client]: Goal #124: Executing\n",
      "[INFO] [1722975069.223275312] [remote_control_client]: Goal #124: Completed\n",
      "[INFO] [1722975069.477932204] [remote_control_client]: Goal #125: Executing\n"
     ]
    },
    {
     "name": "stdout",
     "output_type": "stream",
     "text": [
      "Object detected\n"
     ]
    },
    {
     "name": "stderr",
     "output_type": "stream",
     "text": [
      "[INFO] [1722975070.714069789] [remote_control_client]: Goal #125: Completed\n",
      "[INFO] [1722975070.749221675] [remote_control_client]: Goal #125: Stopped\n",
      "[INFO] [1722975070.988885156] [remote_control_client]: Goal #126: Executing\n"
     ]
    },
    {
     "name": "stdout",
     "output_type": "stream",
     "text": [
      "Available grab stacks:  [0, 2]\n",
      "Next stack:  2\n"
     ]
    },
    {
     "name": "stderr",
     "output_type": "stream",
     "text": [
      "[INFO] [1722975071.402467831] [remote_control_client]: Goal #126: Completed\n",
      "[INFO] [1722975071.619936941] [remote_control_client]: Goal #127: Executing\n"
     ]
    },
    {
     "name": "stdout",
     "output_type": "stream",
     "text": [
      "1 3\n"
     ]
    },
    {
     "name": "stderr",
     "output_type": "stream",
     "text": [
      "[INFO] [1722975073.716468309] [remote_control_client]: Goal #127: Completed\n",
      "[INFO] [1722975073.929493019] [remote_control_client]: Goal #128: Executing\n",
      "[INFO] [1722975074.497421661] [remote_control_client]: Goal #128: Completed\n",
      "[INFO] [1722975074.772624547] [remote_control_client]: Goal #129: Executing\n"
     ]
    },
    {
     "name": "stdout",
     "output_type": "stream",
     "text": [
      "Object detected\n"
     ]
    },
    {
     "name": "stderr",
     "output_type": "stream",
     "text": [
      "[INFO] [1722975076.861692926] [remote_control_client]: Goal #129: Stopped\n",
      "[INFO] [1722975076.901943952] [remote_control_client]: Goal #129: Completed\n",
      "[INFO] [1722975077.074945576] [remote_control_client]: Goal #130: Executing\n",
      "[INFO] [1722975077.438630498] [remote_control_client]: Goal #130: Completed\n",
      "[INFO] [1722975078.553159607] [remote_control_client]: Goal #131: Executing\n",
      "[INFO] [1722975078.917460924] [remote_control_client]: Goal #131: Completed\n"
     ]
    },
    {
     "name": "stdout",
     "output_type": "stream",
     "text": [
      "Available drop stacks:  [0, 1, 3]\n",
      "Next stack:  0\n"
     ]
    },
    {
     "name": "stderr",
     "output_type": "stream",
     "text": [
      "[INFO] [1722975079.589511991] [remote_control_client]: Goal #132: Executing\n"
     ]
    },
    {
     "name": "stdout",
     "output_type": "stream",
     "text": [
      "3 1\n"
     ]
    },
    {
     "name": "stderr",
     "output_type": "stream",
     "text": [
      "[INFO] [1722975081.643160453] [remote_control_client]: Goal #132: Completed\n",
      "[INFO] [1722975081.902948639] [remote_control_client]: Goal #133: Executing\n",
      "[INFO] [1722975083.407880513] [remote_control_client]: Goal #133: Completed\n",
      "[INFO] [1722975083.704660852] [remote_control_client]: Goal #134: Executing\n"
     ]
    },
    {
     "name": "stdout",
     "output_type": "stream",
     "text": [
      "Object detected\n"
     ]
    },
    {
     "name": "stderr",
     "output_type": "stream",
     "text": [
      "[INFO] [1722975084.332172236] [remote_control_client]: Goal #134: Completed\n",
      "[INFO] [1722975084.368432412] [remote_control_client]: Goal #134: Stopped\n",
      "[INFO] [1722975084.614309311] [remote_control_client]: Goal #135: Executing\n"
     ]
    },
    {
     "name": "stdout",
     "output_type": "stream",
     "text": [
      "Available grab stacks:  [0, 2]\n",
      "Next stack:  2\n"
     ]
    },
    {
     "name": "stderr",
     "output_type": "stream",
     "text": [
      "[INFO] [1722975084.968840203] [remote_control_client]: Goal #135: Completed\n",
      "[INFO] [1722975085.231028588] [remote_control_client]: Goal #136: Executing\n"
     ]
    },
    {
     "name": "stdout",
     "output_type": "stream",
     "text": [
      "2 2\n"
     ]
    },
    {
     "name": "stderr",
     "output_type": "stream",
     "text": [
      "[INFO] [1722975087.426507050] [remote_control_client]: Goal #136: Completed\n",
      "[INFO] [1722975087.514261964] [remote_control_client]: Goal #137: Executing\n",
      "[INFO] [1722975088.579837418] [remote_control_client]: Goal #137: Completed\n",
      "[INFO] [1722975088.840626394] [remote_control_client]: Goal #138: Executing\n"
     ]
    },
    {
     "name": "stdout",
     "output_type": "stream",
     "text": [
      "Object detected\n"
     ]
    },
    {
     "name": "stderr",
     "output_type": "stream",
     "text": [
      "[INFO] [1722975090.675221752] [remote_control_client]: Goal #138: Completed\n",
      "[INFO] [1722975090.716792948] [remote_control_client]: Goal #138: Stopped\n",
      "[INFO] [1722975090.957994787] [remote_control_client]: Goal #139: Executing\n",
      "[INFO] [1722975091.324370079] [remote_control_client]: Goal #139: Completed\n",
      "[INFO] [1722975092.433319483] [remote_control_client]: Goal #140: Executing\n",
      "[INFO] [1722975092.795941973] [remote_control_client]: Goal #140: Completed\n"
     ]
    },
    {
     "name": "stdout",
     "output_type": "stream",
     "text": [
      "Available drop stacks:  [0, 1, 3]\n",
      "Next stack:  1\n"
     ]
    },
    {
     "name": "stderr",
     "output_type": "stream",
     "text": [
      "[INFO] [1722975093.414578731] [remote_control_client]: Goal #141: Executing\n"
     ]
    },
    {
     "name": "stdout",
     "output_type": "stream",
     "text": [
      "4 0\n"
     ]
    },
    {
     "name": "stderr",
     "output_type": "stream",
     "text": [
      "[INFO] [1722975095.556417468] [remote_control_client]: Goal #141: Completed\n",
      "[INFO] [1722975095.742513212] [remote_control_client]: Goal #142: Executing\n",
      "[INFO] [1722975097.796487241] [remote_control_client]: Goal #142: Completed\n",
      "[INFO] [1722975098.119670926] [remote_control_client]: Goal #143: Executing\n"
     ]
    },
    {
     "name": "stdout",
     "output_type": "stream",
     "text": [
      "Object detected\n"
     ]
    },
    {
     "name": "stderr",
     "output_type": "stream",
     "text": [
      "[INFO] [1722975098.748399074] [remote_control_client]: Goal #143: Stopped\n",
      "[INFO] [1722975098.749835483] [remote_control_client]: Goal #143: Completed\n",
      "[INFO] [1722975099.007419787] [remote_control_client]: Goal #144: Executing\n"
     ]
    },
    {
     "name": "stdout",
     "output_type": "stream",
     "text": [
      "Available grab stacks:  [0, 1, 2]\n",
      "Next stack:  1\n"
     ]
    },
    {
     "name": "stderr",
     "output_type": "stream",
     "text": [
      "[INFO] [1722975099.372739320] [remote_control_client]: Goal #144: Completed\n",
      "[INFO] [1722975099.645758173] [remote_control_client]: Goal #145: Executing\n"
     ]
    },
    {
     "name": "stdout",
     "output_type": "stream",
     "text": [
      "3 1\n"
     ]
    },
    {
     "name": "stderr",
     "output_type": "stream",
     "text": [
      "[INFO] [1722975101.699906543] [remote_control_client]: Goal #145: Completed\n",
      "[INFO] [1722975101.973335199] [remote_control_client]: Goal #146: Executing\n",
      "[INFO] [1722975103.534180453] [remote_control_client]: Goal #146: Completed\n",
      "[INFO] [1722975103.813297012] [remote_control_client]: Goal #147: Executing\n"
     ]
    },
    {
     "name": "stdout",
     "output_type": "stream",
     "text": [
      "Object detected\n"
     ]
    },
    {
     "name": "stderr",
     "output_type": "stream",
     "text": [
      "[INFO] [1722975105.244144743] [remote_control_client]: Goal #147: Completed\n",
      "[INFO] [1722975105.256607840] [remote_control_client]: Goal #147: Stopped\n",
      "[INFO] [1722975105.524507121] [remote_control_client]: Goal #148: Executing\n",
      "[INFO] [1722975105.889356580] [remote_control_client]: Goal #148: Completed\n",
      "[INFO] [1722975107.584676960] [remote_control_client]: Goal #149: Executing\n",
      "[INFO] [1722975107.949488525] [remote_control_client]: Goal #149: Completed\n"
     ]
    },
    {
     "name": "stdout",
     "output_type": "stream",
     "text": [
      "Available drop stacks:  [0, 2, 3]\n",
      "Next stack:  0\n"
     ]
    },
    {
     "name": "stderr",
     "output_type": "stream",
     "text": [
      "[INFO] [1722975108.614709018] [remote_control_client]: Goal #150: Executing\n"
     ]
    },
    {
     "name": "stdout",
     "output_type": "stream",
     "text": [
      "2 2\n"
     ]
    },
    {
     "name": "stderr",
     "output_type": "stream",
     "text": [
      "[INFO] [1722975110.723443304] [remote_control_client]: Goal #150: Completed\n",
      "[INFO] [1722975110.917128993] [remote_control_client]: Goal #151: Executing\n",
      "[INFO] [1722975112.127979658] [remote_control_client]: Goal #151: Completed\n",
      "[INFO] [1722975112.260922729] [remote_control_client]: Goal #152: Executing\n"
     ]
    },
    {
     "name": "stdout",
     "output_type": "stream",
     "text": [
      "Object detected\n"
     ]
    },
    {
     "name": "stderr",
     "output_type": "stream",
     "text": [
      "[INFO] [1722975113.094567079] [remote_control_client]: Goal #152: Stopped\n",
      "[INFO] [1722975113.189671413] [remote_control_client]: Goal #152: Completed\n",
      "[INFO] [1722975113.377451809] [remote_control_client]: Goal #153: Executing\n"
     ]
    },
    {
     "name": "stdout",
     "output_type": "stream",
     "text": [
      "Available grab stacks:  [0, 2]\n",
      "Next stack:  2\n"
     ]
    },
    {
     "name": "stderr",
     "output_type": "stream",
     "text": [
      "[INFO] [1722975113.908284764] [remote_control_client]: Goal #153: Completed\n",
      "[INFO] [1722975113.984880895] [remote_control_client]: Goal #154: Executing\n"
     ]
    },
    {
     "name": "stdout",
     "output_type": "stream",
     "text": [
      "3 1\n"
     ]
    },
    {
     "name": "stderr",
     "output_type": "stream",
     "text": [
      "[INFO] [1722975116.051404444] [remote_control_client]: Goal #154: Completed\n",
      "[INFO] [1722975116.332662883] [remote_control_client]: Goal #155: Executing\n",
      "[INFO] [1722975118.030213987] [remote_control_client]: Goal #155: Completed\n",
      "[INFO] [1722975118.152593907] [remote_control_client]: Goal #156: Executing\n"
     ]
    },
    {
     "name": "stdout",
     "output_type": "stream",
     "text": [
      "Object detected\n"
     ]
    },
    {
     "name": "stderr",
     "output_type": "stream",
     "text": [
      "[INFO] [1722975119.678636709] [remote_control_client]: Goal #156: Completed\n",
      "[INFO] [1722975119.690908258] [remote_control_client]: Goal #156: Stopped\n",
      "[INFO] [1722975119.978820258] [remote_control_client]: Goal #157: Executing\n",
      "[INFO] [1722975120.343457313] [remote_control_client]: Goal #157: Completed\n",
      "[INFO] [1722975121.525498436] [remote_control_client]: Goal #158: Executing\n",
      "[INFO] [1722975121.888694865] [remote_control_client]: Goal #158: Completed\n"
     ]
    },
    {
     "name": "stdout",
     "output_type": "stream",
     "text": [
      "Available drop stacks:  [0, 1, 3]\n",
      "Next stack:  0\n"
     ]
    },
    {
     "name": "stderr",
     "output_type": "stream",
     "text": [
      "[INFO] [1722975122.519306180] [remote_control_client]: Goal #159: Executing\n"
     ]
    },
    {
     "name": "stdout",
     "output_type": "stream",
     "text": [
      "1 3\n"
     ]
    },
    {
     "name": "stderr",
     "output_type": "stream",
     "text": [
      "[INFO] [1722975124.734392521] [remote_control_client]: Goal #159: Completed\n",
      "[INFO] [1722975124.870080719] [remote_control_client]: Goal #160: Executing\n",
      "[INFO] [1722975125.492818863] [remote_control_client]: Goal #160: Completed\n",
      "[INFO] [1722975125.765762390] [remote_control_client]: Goal #161: Executing\n"
     ]
    },
    {
     "name": "stdout",
     "output_type": "stream",
     "text": [
      "Object detected\n"
     ]
    },
    {
     "name": "stderr",
     "output_type": "stream",
     "text": [
      "[INFO] [1722975126.951215113] [remote_control_client]: Goal #161: Stopped\n",
      "[INFO] [1722975127.101368423] [remote_control_client]: Goal #161: Completed\n",
      "[INFO] [1722975127.235644047] [remote_control_client]: Goal #162: Executing\n"
     ]
    },
    {
     "name": "stdout",
     "output_type": "stream",
     "text": [
      "I am done stacking\n"
     ]
    },
    {
     "name": "stderr",
     "output_type": "stream",
     "text": [
      "[INFO] [1722975127.603640681] [remote_control_client]: Goal #162: Completed\n"
     ]
    }
   ],
   "source": [
    "drop_stack = stacks[curr_stack]\n",
    "reset_pos(STACK1)\n",
    "\n",
    "while True:    \n",
    "    # Choose where to grab a block\n",
    "    grab_stack = random_stack(grab=True)\n",
    "    robot.move_global([drop_stack+ACTIVE,grab_stack+ACTIVE],time=1)\n",
    "    \n",
    "    # Grab a block\n",
    "    detect()\n",
    "    grab()\n",
    "\n",
    "    stacks_c[curr_stack] -= 1\n",
    "\n",
    "    # Choose where to drop a block\n",
    "    drop_stack = random_stack(grab=False)\n",
    "    robot.move_global([grab_stack+ACTIVE,drop_stack+ACTIVE],time=1)\n",
    "\n",
    "    # Drop a block\n",
    "    detect()\n",
    "    drop()\n",
    "\n",
    "    stacks_c[curr_stack] += 1\n",
    "\n",
    "    if 4 in stacks_c:\n",
    "        print(\"I am done stacking\")\n",
    "        break"
   ]
  },
  {
   "cell_type": "code",
   "execution_count": null,
   "id": "ab682e50-c28e-4376-a2c6-96d7620cb900",
   "metadata": {},
   "outputs": [],
   "source": []
  }
 ],
 "metadata": {
  "kernelspec": {
   "display_name": "Python [conda env:ros_py310]",
   "language": "python",
   "name": "conda-env-ros_py310-py"
  },
  "language_info": {
   "codemirror_mode": {
    "name": "ipython",
    "version": 3
   },
   "file_extension": ".py",
   "mimetype": "text/x-python",
   "name": "python",
   "nbconvert_exporter": "python",
   "pygments_lexer": "ipython3",
   "version": "3.10.13"
  }
 },
 "nbformat": 4,
 "nbformat_minor": 5
}
