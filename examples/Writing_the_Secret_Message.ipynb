{
 "cells": [
  {
   "cell_type": "markdown",
   "id": "3992240b-b52d-4ee4-9ca7-39c6b5d02eb2",
   "metadata": {},
   "source": [
    "# Writing the Secret Message"
   ]
  },
  {
   "cell_type": "markdown",
   "id": "7a2cfa69-1975-48fb-8540-6deef5f7e611",
   "metadata": {},
   "source": [
    "Each group will be assigned to draw a specific letter, in a specific plot of paper. If everything goes to plan, the UR3e arm will write out the secret message letter by letter as each group's code runs. Each letter should be contained in a box that is 0.0342 wide and 0.0417 tall and centered at the coordinates assigned to your group. In the below example, the letter is Z and should be placed at coordinates x,y relative to the page."
   ]
  },
  {
   "cell_type": "markdown",
   "id": "3e7e9620-d278-435c-a283-8bf105b3ee7d",
   "metadata": {},
   "source": [
    "<div style=\"display: flex; align-items: center;\">\n",
    "    <img src=\"img/letter_info.png\" alt=\"Image 1\" style=\"width:300px; margin-right: 10px;\"/>\n",
    "    <img src=\"img/page_info.png\" alt=\"Image 2\" style=\"width:300px;\"/>\n",
    "</div>"
   ]
  },
  {
   "cell_type": "markdown",
   "id": "a692918c-6ca9-4fd3-ba99-dd7ca57427e1",
   "metadata": {},
   "source": [
    "## Coding Your Letters"
   ]
  },
  {
   "cell_type": "markdown",
   "id": "09274591-7bd3-4f69-9ec6-02d2ae4883aa",
   "metadata": {},
   "source": [
    "Use this paper_coordinates() function to translate x,y coordinates on the page to 3D coordinates in the global frame. You will send these coordinates to the move_global() function. Check the plots to see if your letters show up as you want them to. Keep in mind that you have to move the robot arm up and down to indicate when it is drawing or moving above the paper."
   ]
  },
  {
   "cell_type": "code",
   "execution_count": null,
   "id": "306add80-6f9e-4f43-8ab4-08b6f3651139",
   "metadata": {},
   "outputs": [],
   "source": [
    "from myur import MyUR3e\n",
    "robot = MyUR3e()\n",
    "\n",
    "# myrobot.get_logger().set_level(rclpy.logging.LoggingSeverity.DEBUG)\n",
    "\n",
    "LEFT_TOP = [-0.0904, 0.4208, 0.22, 0, 0, 1]\n",
    "LEFT_BOTTOM = [-0.0904, 0.2049, 0.217, 0, 0, 1]\n",
    "RIGHT_BOTTOM = [0.1890, 0.2049, 0.217, 0, 0, 1]\n",
    "RIGHT_TOP = [0.1890, 0.4208, 0.22, 0, 0, 1]\n",
    "\n",
    "def paper_coordinates(x,y, up=True):\n",
    "    cords = []\n",
    "    if (x > 0.2794) or (y > 0.2159) or (x < 0) or (y < 0):\n",
    "        raise RuntimeError(\"Your coordinates are off the paper\")\n",
    "    cords.append(LEFT_BOTTOM[0]+x)\n",
    "    cords.append(LEFT_BOTTOM[1]+y)\n",
    "    if up:\n",
    "        cords.append(0.23)\n",
    "    else:\n",
    "        cords.append(0.22-(0.003*((0.2159-y)/0.2159)))\n",
    "    \n",
    "    return cords + [0, 0, 0]\n",
    "\n",
    "# Example: Move the pen to the center of the page\n",
    "point = paper_coordinates(0.1,0.1, up=True)\n",
    "robot.move_global([point],time_step=2,sim=True)"
   ]
  },
  {
   "cell_type": "markdown",
   "id": "3c4c5448-bccf-446f-9a4f-7418b8d6f2e5",
   "metadata": {},
   "source": [
    "## Example: Writing the Letter V"
   ]
  },
  {
   "cell_type": "markdown",
   "id": "523a6be7-c0db-4974-9c7d-412bb70f1d9a",
   "metadata": {},
   "source": [
    "The following code will draw the letter V where the bottom of the V is located at (0.1,0.1) on the piece of paper."
   ]
  },
  {
   "cell_type": "code",
   "execution_count": null,
   "id": "c3f8facb-d1e7-4d21-89fd-5dd585ab96d2",
   "metadata": {},
   "outputs": [],
   "source": [
    "# Create array of sequential points in the desired trajectory\n",
    "trajectory = []\n",
    "\n",
    "# Move pen to the start\n",
    "point = paper_coordinates(0.1,0.1, up=True)\n",
    "trajectory.append(point)\n",
    "\n",
    "# Move from bottom to the top in the left segment of the \"v\"\n",
    "steps = 5\n",
    "for t in range(steps):\n",
    "    x = -0.005 * t + 0.1\n",
    "    y = 0.01 * t + 0.1\n",
    "    point = paper_coordinates(x,y, up=False)\n",
    "    trajectory.append(point)\n",
    "\n",
    "# Return to the bottom\n",
    "point = paper_coordinates(0.1,0.1, up=True)\n",
    "trajectory.append(point)\n",
    "    \n",
    "# Move from bottom to the top in the right segment of the \"v\"\n",
    "for t in range(steps):\n",
    "    x = 0.005 * t + 0.1\n",
    "    y = 0.01 * t + 0.1\n",
    "    point = paper_coordinates(x,y, up=False)\n",
    "    trajectory.append(point)\n",
    "\n",
    "# Execute the trajectory\n",
    "robot.move_global(trajectory,time_step=(2,1),simpaper=True)"
   ]
  },
  {
   "cell_type": "markdown",
   "id": "66dd3373-1f9d-4183-93fa-0b26087f7b23",
   "metadata": {},
   "source": [
    "## Writing With the Robot"
   ]
  },
  {
   "cell_type": "markdown",
   "id": "24d96108-51ae-4a4f-b137-773ea9d06c56",
   "metadata": {},
   "source": [
    "Create new code specific to your letter and position below. When its time to write your letters. Change the sim/simpage parameter from True to False!"
   ]
  },
  {
   "cell_type": "code",
   "execution_count": 3,
   "id": "8d1913b7-c3ef-40fc-9c87-67f29309ada0",
   "metadata": {},
   "outputs": [],
   "source": [
    "# Create array of sequential points in the desired trajectory\n",
    "trajectory = []\n",
    "\n",
    "# Add a first point in the middle of the paper\n",
    "point = paper_coordinates(0.1,0.1, up=True)\n",
    "trajectory.append(point)"
   ]
  },
  {
   "cell_type": "code",
   "execution_count": null,
   "id": "2ee63f32-94b7-4cea-a8ce-089ea2940400",
   "metadata": {},
   "outputs": [],
   "source": []
  }
 ],
 "metadata": {
  "kernelspec": {
   "display_name": "Python [conda env:ros_py310]",
   "language": "python",
   "name": "conda-env-ros_py310-py"
  },
  "language_info": {
   "codemirror_mode": {
    "name": "ipython",
    "version": 3
   },
   "file_extension": ".py",
   "mimetype": "text/x-python",
   "name": "python",
   "nbconvert_exporter": "python",
   "pygments_lexer": "ipython3",
   "version": "3.10.13"
  }
 },
 "nbformat": 4,
 "nbformat_minor": 5
}
