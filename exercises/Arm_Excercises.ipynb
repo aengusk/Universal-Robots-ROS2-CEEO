{
 "cells": [
  {
   "cell_type": "code",
   "execution_count": null,
   "id": "3b879be2-7346-4102-be92-bdb8fe844e5a",
   "metadata": {},
   "outputs": [],
   "source": [
    "# Test scripts for the UR3e Arm\n",
    "# Liam Campbell\n",
    "# July 2024 @ Tufts CEEO\n",
    "\n",
    "# Make sure ik_solver folder and MyUR3e.py are downloaded in JupyterHub Library"
   ]
  },
  {
   "cell_type": "code",
   "execution_count": null,
   "id": "3c2f7df0-333e-42f4-86bb-61990997c2a8",
   "metadata": {},
   "outputs": [],
   "source": [
    "import MyUR3e\n",
    "import rclpy\n",
    "import time\n",
    "import numpy as np\n",
    "from IPython.display import clear_output\n",
    "from IPython.display import HTML\n",
    "\n",
    "rclpy.init()\n",
    "\n",
    "myrobot = MyUR3e.MyUR3e()\n",
    "\n",
    "# UNCOMMENT THIS FOR DEBUGGING LOGS\n",
    "#myrobot.get_logger().set_level(rclpy.logging.LoggingSeverity.DEBUG)\n",
    "\n",
    "# Change these booleans to turn tests on / off\n",
    "gripper_test = False\n",
    "read_data = False\n",
    "invalid_ik_test = False\n",
    "wave_test = False\n",
    "wrist_test = False\n",
    "relative_test = False\n",
    "line_test = False\n",
    "circle_test = False"
   ]
  },
  {
   "cell_type": "code",
   "execution_count": null,
   "id": "0579694b-2ff9-4307-bf19-90f1134a27d9",
   "metadata": {},
   "outputs": [],
   "source": [
    "# GRIPPER TEST\n",
    "if gripper_test:\n",
    "    myrobot.move_gripper(255,255,100) # close\n",
    "    time.sleep(1)\n",
    "    myrobot.move_gripper(0,255,100)\n",
    "    \n",
    "    print(myrobot.get_gripper())"
   ]
  },
  {
   "cell_type": "code",
   "execution_count": null,
   "id": "84350de1-f928-41fc-9725-2caa40bc84d2",
   "metadata": {},
   "outputs": [],
   "source": [
    "# MONITOR JOINT STATES TOPIC\n",
    "\n",
    "if read_data:\n",
    "    while True:\n",
    "        clear_output(wait=True)\n",
    "        coordinates = joint_states.get_global()\n",
    "        for i in range(0,6):\n",
    "            print(f\"Name: {myrobot.get_joints()['name'][i]}\")\n",
    "            print(f\"    Position: {myrobot.get_joints()['position'][i]}\")\n",
    "            print(f\"    Velocity: {myrobot.get_joints()['velocity'][i]}\")\n",
    "            print(f\"    Effort: {myrobot.get_joints()['effort'][i]}\")\n",
    "        print(f\"Name: Wrench\")\n",
    "        print(f\"    Force: {myrobot.get_force()['force']}\")\n",
    "        print(f\"    Torque: {myrobot.get_force()['torque']}\")\n",
    "        time.sleep(0.05)"
   ]
  },
  {
   "cell_type": "code",
   "execution_count": null,
   "id": "59071cc0-77a0-4759-8e0f-5b6886e626a4",
   "metadata": {},
   "outputs": [],
   "source": [
    "# INVALID IK TEST\n",
    "\n",
    "line = []\n",
    "for i in range(10):\n",
    "    line.append([0.375, -0.3+i*0.1,  0.258, 0,  i*30,  0])\n",
    "\n",
    "try:\n",
    "    myrobot.move_global(line,time_step=(5,1),sim=(not invalid_ik_test))\n",
    "except Exception as e:\n",
    "    print(e)"
   ]
  },
  {
   "cell_type": "code",
   "execution_count": null,
   "id": "7ae9df11-6bb4-4944-98f2-174616720646",
   "metadata": {},
   "outputs": [],
   "source": [
    "# WAVE TEST\n",
    "\n",
    "traj = []\n",
    "for i in range(-60,60):\n",
    "    point = [0.2, 0.3-(i/700),  0.3+0.05*np.sin(2*3.1415*(60+i)/120), 0,  i,  0]\n",
    "    traj.append(point)\n",
    "\n",
    "myrobot.move_global(traj,time_step=(5,0.1),sim=(not wave_test))"
   ]
  },
  {
   "cell_type": "code",
   "execution_count": null,
   "id": "7e6e2456-1607-4f0e-bbf0-007e77c4e541",
   "metadata": {},
   "outputs": [],
   "source": [
    "# WRIST TEST\n",
    "# SOME FUNKY STUFF GOING ON\n",
    "\n",
    "traj = [[0.2,0.25,0.3,0,0,0],\n",
    "       [0.2,0.25,0.3,0,45,0],\n",
    "       [0.2,0.25,0.3,45,45,45],\n",
    "       [0.2,0.25,0.3,45,45,90],\n",
    "       [0.2,0.25,0.3,45,45,135],\n",
    "       [0.2,0.25,0.3,45,45,180],\n",
    "       [0.2,0.25,0.3,45,45,240],\n",
    "       [0.2,0.25,0.3,45,45,360]]\n",
    "\n",
    "myrobot.move_global(traj,time_step=(2,1),sim=(not wrist_test))"
   ]
  },
  {
   "cell_type": "code",
   "execution_count": null,
   "id": "ed931b58-9a76-4790-89a2-87dec2955406",
   "metadata": {},
   "outputs": [],
   "source": [
    "# RELATIVE MOVEMENT\n",
    "if relative_test:\n",
    "    points=[[np.pi/2,0,0,0,0,0],\n",
    "           [-np.pi/2,np.pi/6,0,0,0,0]]\n",
    "    myrobot.move_joints_r(points,time_step=(2,1),sim=(not wrist_test))"
   ]
  },
  {
   "cell_type": "code",
   "execution_count": null,
   "id": "c2cf525b-e050-402c-802f-ae596a96dd82",
   "metadata": {},
   "outputs": [],
   "source": [
    "# LINE TEST\n",
    "\n",
    "line = []\n",
    "for i in range(0,50):\n",
    "    line.append([0.3,0.3-i*(0.4/50),0.25,0,0,0])\n",
    "\n",
    "myrobot.move_global(line,time_step=(2,0.1),sim=(not line_test))"
   ]
  },
  {
   "cell_type": "code",
   "execution_count": null,
   "id": "fc79a3fc-e06b-4147-bf74-76ad2b96ba7c",
   "metadata": {},
   "outputs": [],
   "source": [
    "# FUN CIRCLE TEST\n",
    "\n",
    "steps = 100\n",
    "r = 0.075\n",
    "\n",
    "circle = []\n",
    "for t in range(steps):\n",
    "    x = r * np.cos(t*2*np.pi/(steps))\n",
    "    y = r * np.sin(t*2 * np.pi / (steps))\n",
    "    circle.append([0.2+x,0.25+y,0.3,-45*np.sin(t*2 * np.pi / (steps)),45*np.cos(t*2 * np.pi / (steps)),0+2*(i*360/100)])\n",
    "\n",
    "myrobot.move_global(circle,time_step=(3,0.1),sim=(not circle_test))"
   ]
  },
  {
   "cell_type": "code",
   "execution_count": null,
   "id": "171d5e33-f480-401d-94cc-ab817099238f",
   "metadata": {},
   "outputs": [],
   "source": [
    "HTML(filename=\"ur3e_trajectory.html\")"
   ]
  },
  {
   "cell_type": "code",
   "execution_count": null,
   "id": "26a9c6b7-e7ac-4e97-9bca-ea617bed5b1e",
   "metadata": {},
   "outputs": [],
   "source": [
    "rclpy.shutdown()"
   ]
  }
 ],
 "metadata": {
  "kernelspec": {
   "display_name": "Python [conda env:ros_py310]",
   "language": "python",
   "name": "conda-env-ros_py310-py"
  },
  "language_info": {
   "codemirror_mode": {
    "name": "ipython",
    "version": 3
   },
   "file_extension": ".py",
   "mimetype": "text/x-python",
   "name": "python",
   "nbconvert_exporter": "python",
   "pygments_lexer": "ipython3",
   "version": "3.10.13"
  }
 },
 "nbformat": 4,
 "nbformat_minor": 5
}
