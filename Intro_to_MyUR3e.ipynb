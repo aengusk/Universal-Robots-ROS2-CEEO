{
 "cells": [
  {
   "cell_type": "markdown",
   "id": "4b430195-dde1-434b-8960-3ea27fd61a37",
   "metadata": {},
   "source": [
    "# MyUR3e Class Tutorial"
   ]
  },
  {
   "cell_type": "markdown",
   "id": "cd1db531-54bf-4259-804c-b3a4ca9e4cda",
   "metadata": {},
   "source": [
    "## Initial Setup"
   ]
  },
  {
   "cell_type": "code",
   "execution_count": null,
   "id": "826785a0-d891-49e5-a85e-6d5715c5dc40",
   "metadata": {},
   "outputs": [],
   "source": [
    "# First import and initiate rclpy (ROS2)\n",
    "import rclpy\n",
    "import numpy as np\n",
    "rclpy.init()\n",
    "\n",
    "# Then import MyUR3e and create an instance of the class\n",
    "import MyUR3e\n",
    "myrobot = MyUR3e.MyUR3e()\n",
    "\n",
    "# You can also create instances of joint_states and tool_wrench if you would like (or access them through myrobot).\n",
    "# These classes contain ROS2 nodes that subscribe to ROS2 topics and can help us access useful data.\n",
    "joint_states = myrobot.joint_states\n",
    "tool_wrench = myrobot.tool_wrench\n",
    "\n",
    "# We also might want these libraries to help us out.\n",
    "import time\n",
    "from IPython.display import clear_output\n",
    "\n",
    "# Lastly if you are having trouble with your code:\n",
    "# Uncomment the code below for Debugging Logs\n",
    "# myrobot.get_logger().set_level(rclpy.logging.LoggingSeverity.DEBUG)"
   ]
  },
  {
   "cell_type": "markdown",
   "id": "a2e03909-5ae9-4ac2-a5b5-68dc88629341",
   "metadata": {},
   "source": [
    "## How to Use The Data Classes"
   ]
  },
  {
   "cell_type": "markdown",
   "id": "f0ec2bae-bba8-4304-839a-9d47db89bef2",
   "metadata": {},
   "source": [
    "Check out the loop below to see how to access data. \n",
    "\n",
    "For joint_states, the get_global() function will return the coordinates of the end effector relative to the the base of the robot in a six number array. (Can you guess what the last three numbers indicate?). The get_joints() function returns information about each joint and therefore is formatted differently. We can get information about the angle (position), velocity (angular velocity), and effort (torqe) of each joint.\n",
    "\n",
    "The tool_wrench class gives us access to data from a 6-axis force sensor in the end effector.\n",
    "\n",
    "See if you can fill in the empty values. If you want to see continuous data turn the for loop into a while loop."
   ]
  },
  {
   "cell_type": "code",
   "execution_count": null,
   "id": "cd8834cb-04fe-4079-8e8f-7e9cf9237b36",
   "metadata": {},
   "outputs": [],
   "source": [
    "# Monitor MyUR3e Data\n",
    "\n",
    "for i in range(10):\n",
    "    clear_output(wait=True)\n",
    "    for i in range(0,6):\n",
    "        print(f\"Joint States: {joint_states.get_joints()['name'][i]}\")\n",
    "        print(f\"    Position: ??\")\n",
    "        print(f\"    Velocity: ??\")\n",
    "        print(f\"    Effort: {joint_states.get_joints()['effort'][i]}\")\n",
    "    print(f\"Joint States Global:\")\n",
    "    print(f\"    Position: {joint_states.get_global()}\")\n",
    "    print(f\"Tool Wrench\")\n",
    "    print(f\"    Force: {tool_wrench.get()['force']}\")\n",
    "    print(f\"    Torque: ??\")\n",
    "    time.sleep(0.05)"
   ]
  },
  {
   "cell_type": "markdown",
   "id": "8e64a770-f970-4407-8293-80cd6120aa9e",
   "metadata": {},
   "source": [
    "## How to Move the Arm"
   ]
  },
  {
   "cell_type": "markdown",
   "id": "85c0f5ea-713a-4dbf-97f1-b868617fe98a",
   "metadata": {},
   "source": [
    "The MyUR3e class has a function called move_global() that we will use to move the arm. This allows us to tell the arm where in 3D space we want the end effector to be. Inside of the MyUR3e class, we take these values and compute the angles of all six joints so that the end effector is exactly at that position. There is also a move_joints() function that gives you control over the angle of each joint, but using move_global is much easier! (If can code the end effector to move from in a line using the move_joints() function I will personally buy you a snack)."
   ]
  },
  {
   "cell_type": "code",
   "execution_count": null,
   "id": "bf5d521d-8923-4c50-80f5-72318d9519eb",
   "metadata": {},
   "outputs": [],
   "source": [
    "# These two lines of code do the same thing:\n",
    "\n",
    "# This one uses global coordinates (relative to the table)\n",
    "myrobot.move_global([[0.01, 0.30, 0.23, 0, 0, 0]],time_step=5,sim=True)\n",
    "\n",
    "# This one uses joint angles\n",
    "'''\n",
    "myrobot.move_joints([1.0861316919326782, \n",
    "                     -1.6310514211654663, \n",
    "                     1.9829953908920288, \n",
    "                     -1.9211959838867188, \n",
    "                     -1.5716094970703125, \n",
    "                     -0.48466402292251587], \n",
    "                    time_step=5)\n",
    "'''\n",
    "\n",
    "# The time_step parameter tells the arm how long it should take to get to that point.\n",
    "# It is important that you don't make this variable very small otherwise the arm will move very fast!"
   ]
  },
  {
   "cell_type": "markdown",
   "id": "20c60660-9412-4757-b935-36888c927fc9",
   "metadata": {},
   "source": [
    "## How to Create a Trajectory"
   ]
  },
  {
   "cell_type": "markdown",
   "id": "5201324d-c106-4d0f-bfa9-1ada73318c9a",
   "metadata": {},
   "source": [
    "We just learned how to move the arm to a single point. But what about if we want the arm to move across a whole path? The code below will move the end effector in a smooth tilted circle. Instead of passing the move_global() function an array of an array, we pass it an array of many arrays that each represent a sequential point in space.\n",
    "\n",
    "Make sure to keep an eye on the time_step variable! We are only using a small time_step of 0.1 because we are moving many small distances. But if you used a time_step of 0.1 on a larger distance the arm would move way too fast!"
   ]
  },
  {
   "cell_type": "code",
   "execution_count": null,
   "id": "6ba03be0-5913-4262-ae49-85bc0d0d9f1d",
   "metadata": {},
   "outputs": [],
   "source": [
    "steps = 100 # fidelity of the circle\n",
    "r = 0.05 # radius\n",
    "c = [0.2,0.2,0.25] # center\n",
    "\n",
    "circle = [] # array of points\n",
    "for t in range(steps):\n",
    "    x = c[0] + r * np.cos(t*2*np.pi/(steps))\n",
    "    y = c[1] + r * np.sin(t*2 * np.pi / (steps))\n",
    "    z = c[2] + x * 0.5\n",
    "    circle.append([x,y,z,0.0,0.0,0.0])\n",
    "\n",
    "# IMPORTANT TO READ !!!\n",
    "# Here we represent time_step as a tuple (A,B) where A is the used for the first time_step and B for the rest.\n",
    "# This is a safety feature so that we can specify a different time_step for the first coordinate than the rest.\n",
    "# For example, if the robot arm was far away from the first coordinate in the trajectory, we would want to specify\n",
    "# time_step A to be long so the arm moves slowly to its starting pose but time_step B to be short so that the\n",
    "# trajectory doesn't take forever.\n",
    "myrobot.move_global(circle,time_step=(2,0.1),sim=True)"
   ]
  },
  {
   "cell_type": "code",
   "execution_count": null,
   "id": "0f271e5e-15e2-478c-a212-741a02a1269d",
   "metadata": {},
   "outputs": [],
   "source": []
  }
 ],
 "metadata": {
  "kernelspec": {
   "display_name": "Python [conda env:ros_py310]",
   "language": "python",
   "name": "conda-env-ros_py310-py"
  },
  "language_info": {
   "codemirror_mode": {
    "name": "ipython",
    "version": 3
   },
   "file_extension": ".py",
   "mimetype": "text/x-python",
   "name": "python",
   "nbconvert_exporter": "python",
   "pygments_lexer": "ipython3",
   "version": "3.10.13"
  }
 },
 "nbformat": 4,
 "nbformat_minor": 5
}
