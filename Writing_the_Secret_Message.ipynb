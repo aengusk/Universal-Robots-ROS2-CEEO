{
 "cells": [
  {
   "cell_type": "markdown",
   "id": "3992240b-b52d-4ee4-9ca7-39c6b5d02eb2",
   "metadata": {},
   "source": [
    "# Writing the Secret Message"
   ]
  },
  {
   "cell_type": "markdown",
   "id": "7a2cfa69-1975-48fb-8540-6deef5f7e611",
   "metadata": {},
   "source": [
    "Each group will be assigned to draw a specific letter, in a specific plot of paper. If everything goes to plan, the UR3e arm will write out the secret message letter by letter as each group's code runs. Each letter should be contained in a box that is 0.0342 wide and 0.0417 tall and centered at the coordinates assigned to your group. In the below example, the letter is Z and should be placed at coordinates x,y."
   ]
  },
  {
   "cell_type": "markdown",
   "id": "395a506d-4fbf-48a8-a4bb-355b2154b55d",
   "metadata": {},
   "source": [
    "<img src=\"letter_info.png\" alt=\"title\" style=\"width:300px;\"/>"
   ]
  },
  {
   "cell_type": "markdown",
   "id": "a692918c-6ca9-4fd3-ba99-dd7ca57427e1",
   "metadata": {},
   "source": [
    "## Coding Your Letters"
   ]
  },
  {
   "cell_type": "markdown",
   "id": "09274591-7bd3-4f69-9ec6-02d2ae4883aa",
   "metadata": {},
   "source": [
    "Use this paper_coordinates() function to translate x,y coordinates on the page to 3D coordinates in the global frame. You will send these coordinates to the move_global() function. Check the plots to see if your letters show up as you want them to. Keep in mind that you have to move the robot arm up and down to indicate when it is drawing or moving above the paper."
   ]
  },
  {
   "cell_type": "code",
   "execution_count": null,
   "id": "306add80-6f9e-4f43-8ab4-08b6f3651139",
   "metadata": {},
   "outputs": [],
   "source": [
    "import rclpy\n",
    "import MyUR3e\n",
    "import time\n",
    "\n",
    "rclpy.init()\n",
    "myrobot = MyUR3e.MyUR3e()\n",
    "\n",
    "# myrobot.get_logger().set_level(rclpy.logging.LoggingSeverity.DEBUG)\n",
    "\n",
    "LEFT_TOP = [-0.0904, 0.4208, 0.22, 0, 0, 1]\n",
    "LEFT_BOTTOM = [-0.0904, 0.2049, 0.217, 0, 0, 1]\n",
    "RIGHT_BOTTOM = [0.1890, 0.2049, 0.217, 0, 0, 1]\n",
    "RIGHT_TOP = [0.1890, 0.4208, 0.22, 0, 0, 1]\n",
    "\n",
    "def paper_coordinates(x,y, up=True):\n",
    "    cords = []\n",
    "    if (x > 0.2794) or (y > 0.2159) or (x < 0) or (y < 0):\n",
    "        raise RuntimeError(\"Your coordinates are off the paper\")\n",
    "    cords.append(LEFT_BOTTOM[0]+x)\n",
    "    cords.append(LEFT_BOTTOM[1]+y)\n",
    "    if up:\n",
    "        cords.append(0.23)\n",
    "    else:\n",
    "        cords.append(0.22-(0.003*((0.2159-y)/0.2159)))\n",
    "    \n",
    "    return cords + [0, 0, 0]\n",
    "\n",
    "# Example: Move the pen to the center of the page\n",
    "point = paper_coordinates(0.1,0.1, up=True)\n",
    "print(point)\n",
    "myrobot.move_global([point],time_step=2,sim=True)"
   ]
  },
  {
   "cell_type": "markdown",
   "id": "3c4c5448-bccf-446f-9a4f-7418b8d6f2e5",
   "metadata": {},
   "source": [
    "## Example: V"
   ]
  },
  {
   "cell_type": "code",
   "execution_count": null,
   "id": "c3f8facb-d1e7-4d21-89fd-5dd585ab96d2",
   "metadata": {},
   "outputs": [],
   "source": [
    "# Left leg of the flipped \"v\"\n",
    "steps = 5\n",
    "for t in range(steps):\n",
    "    x = -0.005 * t + 0.1\n",
    "    y = 0.01 * t + 0.1\n",
    "    print(x,y)\n",
    "    point = paper_coordinates(x,y, up=False)\n",
    "    myrobot.move_global([point],time_step=(2,1),sim=True)\n",
    "    \n",
    "# Right leg of the flipped \"v\"\n",
    "for t in range(steps):\n",
    "    x = 0.005 * t + 0.1\n",
    "    y = 0.01 * t + 0.1\n",
    "    point = paper_coordinates(x,y, up=False)\n",
    "    myrobot.move_global([point],time_step=(2,1),sim=True)"
   ]
  },
  {
   "cell_type": "markdown",
   "id": "66dd3373-1f9d-4183-93fa-0b26087f7b23",
   "metadata": {},
   "source": [
    "## Writing With the Robot"
   ]
  },
  {
   "cell_type": "markdown",
   "id": "24d96108-51ae-4a4f-b137-773ea9d06c56",
   "metadata": {},
   "source": [
    "When its time to write your letters. Change the sim parameter from True to False!"
   ]
  }
 ],
 "metadata": {
  "kernelspec": {
   "display_name": "Python [conda env:ros_py310]",
   "language": "python",
   "name": "conda-env-ros_py310-py"
  },
  "language_info": {
   "codemirror_mode": {
    "name": "ipython",
    "version": 3
   },
   "file_extension": ".py",
   "mimetype": "text/x-python",
   "name": "python",
   "nbconvert_exporter": "python",
   "pygments_lexer": "ipython3",
   "version": "3.10.13"
  }
 },
 "nbformat": 4,
 "nbformat_minor": 5
}
